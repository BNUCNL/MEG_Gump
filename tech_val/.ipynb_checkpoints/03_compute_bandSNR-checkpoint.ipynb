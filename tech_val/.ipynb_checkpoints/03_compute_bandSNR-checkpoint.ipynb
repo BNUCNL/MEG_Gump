{
 "cells": [
  {
   "cell_type": "markdown",
   "metadata": {},
   "source": [
    "# 03_compute_bandSNR"
   ]
  },
  {
   "cell_type": "code",
   "execution_count": null,
   "metadata": {},
   "outputs": [],
   "source": [
    "import numpy as np\n",
    "from os.path import join as pjoin\n",
    "from os.path import isdir\n",
    "import os\n",
    "import matplotlib.pyplot as plt\n",
    "from matplotlib import cm, colors\n",
    "import mne_bids\n",
    "import mne\n",
    "from mne_bids import write_raw_bids, BIDSPath\n",
    "from scipy import stats\n",
    "import re\n",
    "from scipy import signal\n",
    "import pandas as pd\n",
    "from scipy import signal, fftpack"
   ]
  },
  {
   "cell_type": "markdown",
   "metadata": {},
   "source": [
    "## define functions"
   ]
  },
  {
   "cell_type": "code",
   "execution_count": null,
   "metadata": {},
   "outputs": [],
   "source": [
    "def load_sub_raw_data(data_folder='/nfs/e5/studyforrest/forrest_movie_meg/', subject_idx='01', run_idx='01'):\n",
    "    \"\"\"\n",
    "    load raw meg data. \n",
    "    \n",
    "    input value: subject_idx and run_idx should be str\n",
    "    \"\"\"\n",
    "    \n",
    "    if not isinstance(subject_idx, str):\n",
    "        raise ValueError('subject_dix must be str')\n",
    "        \n",
    "    if not isinstance(run_idx, str):\n",
    "        raise ValueError('run_idx must be str')\n",
    "    \n",
    "    subject_data_folder = data_folder + 'sub-' + subject_idx + '/ses-movie/meg'\n",
    "    fname = 'sub-' + subject_idx + '_ses-movie_task-movie_run-' + run_idx + '_meg.ds'\n",
    "    raw_data_path = pjoin(subject_data_folder, fname)\n",
    "    raw_data = mne.io.read_raw_ctf(raw_data_path, preload='True')\n",
    "    \n",
    "    print('total channels number is {}'.format(len(raw_data.info['chs'])))\n",
    "    print('sample frequency is {} Hz'.format(raw_data.info['sfreq']))\n",
    "\n",
    "    return raw_data\n",
    "\n",
    "def fALFF(data, fs, f_range='band'):\n",
    "    \"\"\"\n",
    "\n",
    "    Parameters\n",
    "    ----------\n",
    "        data: shape = [n_samples, n_features].\n",
    "              for meg data: shape = [n_channels, n_samples]\n",
    "    \"\"\"\n",
    "    \n",
    "    # remove linear trend\n",
    "    data_detrend = signal.detrend(data, axis=-1)\n",
    "    \n",
    "    if f_range == 'band':\n",
    "        # convert to frequency domain        \n",
    "        freqs, psd = signal.welch(data_detrend, fs=fs)\n",
    "        \n",
    "        band = [[1, 4], [4, 8], [8, 13], [13, 30], [30, 100]]\n",
    "        # \"delta\": 1-4Hz\n",
    "        # \"theta\": 4-8Hz\n",
    "        # \"alpha\": 8-13Hz\n",
    "        # \"beta\": 13-30Hz\n",
    "        # \"gamma\": 30-100Hz\n",
    "            \n",
    "#            band = np.linspace(0,0.7,10)\n",
    "#            band = list(zip(band[:-1],band[1:]))\n",
    "            \n",
    "        falff = [np.sum(psd[:, (freqs>i[0]) * (freqs<i[1])], axis=-1) / np.sum(psd[:, freqs<0.5*fs], axis=-1) for i in band]\n",
    "        falff = np.asarray(falff).T\n",
    "    \n",
    "    return falff\n",
    "\n",
    "def load_post_megdata(sub='02', run=1):\n",
    "    bids_root = '/nfs/e5/studyforrest/forrest_movie_meg/preproc_data'\n",
    "    \n",
    "    sub_path = BIDSPath(subject=sub, run=int(run), task='movie', session='movie', processing='preproc', root=bids_root)\n",
    "    raw_sub = mne_bids.read_raw_bids(sub_path)\n",
    "\n",
    "    ch_name_picks = mne.pick_channels_regexp(raw_sub.ch_names, regexp='M[LRZ]...-4503')\n",
    "    type_picks = mne.pick_types(raw_sub.info, meg=True)\n",
    "    sub_picks= np.intersect1d(ch_name_picks, type_picks)\n",
    "    sub_raw_data = raw_sub.get_data(picks=sub_picks)\n",
    "    events_sub = mne.events_from_annotations(raw_sub)\n",
    "    sample_sub = events_sub[0][:,0]\n",
    "    \n",
    "    sub_data = sub_raw_data.take(sample_sub, axis=1)\n",
    "    return sub_data\n",
    "\n",
    "def load_pre_megdata(sub='02', run=1):\n",
    "    bids_root = '/nfs/e5/studyforrest/forrest_movie_meg/preproc_data'\n",
    "    \n",
    "    sub_path = BIDSPath(subject=sub, run=int(run), task='movie', session='movie', processing='preproc', root=bids_root)\n",
    "    raw_sub_ev = mne_bids.read_raw_bids(sub_path)\n",
    "    raw_sub = load_sub_raw_data(subject_idx=sub, run_idx='0'+str(run))\n",
    "    ch_name_picks = mne.pick_channels_regexp(raw_sub.ch_names, regexp='M[LRZ]...-4503')\n",
    "    type_picks = mne.pick_types(raw_sub.info, meg=True)\n",
    "    sub_picks= np.intersect1d(ch_name_picks, type_picks)\n",
    "    sub_raw_data = raw_sub.get_data(picks=sub_picks)\n",
    "    events_sub = mne.events_from_annotations(raw_sub_ev)\n",
    "    sample_sub = events_sub[0][:,0]\n",
    "    \n",
    "    sub_data = sub_raw_data.take(sample_sub, axis=1)\n",
    "    return sub_data"
   ]
  },
  {
   "cell_type": "markdown",
   "metadata": {},
   "source": [
    "## define variables"
   ]
  },
  {
   "cell_type": "code",
   "execution_count": null,
   "metadata": {},
   "outputs": [],
   "source": [
    "sub_list = ['{0:0>2d}'.format(sub) for sub in np.arange(1,12)]\n",
    "run_list = ['{0:0>2d}'.format(run) for run in np.arange(1,9)]\n",
    "band = ['delta', 'theta', 'alpha', 'beta', 'gamma']\n",
    "# change path\n",
    "data_pth = '/nfs/s2/userhome/daiyuxuan/workingdir/MEG-paper/output_data'\n",
    "bids_root = '/nfs/e2/workingshop/daiyuxuan/MEG-paper/preproc_data' "
   ]
  },
  {
   "cell_type": "markdown",
   "metadata": {},
   "source": [
    "## compute band falff"
   ]
  },
  {
   "cell_type": "code",
   "execution_count": null,
   "metadata": {},
   "outputs": [],
   "source": [
    "# compute falff\n",
    "post_falff_data = {}\n",
    "pre_falff_data ={}\n",
    "for sub in sub_list:\n",
    "    post_falff_data[sub] = []\n",
    "    pre_falff_data[sub] = []\n",
    "    if sub == '01':\n",
    "        run_ls = run_list + ['09']\n",
    "    else:\n",
    "        run_ls = run_list\n",
    "    for run in run_ls:\n",
    "        post_raw_data = load_post_megdata(sub=sub, run=int(run))\n",
    "        post_falff = fALFF(post_raw_data, fs=600)\n",
    "        pre_raw_data = load_pre_megdata(sub=sub, run=int(run))\n",
    "        pre_falff = fALFF(pre_raw_data, fs=600)\n",
    "        post_falff_data[sub].append(post_falff)\n",
    "        pre_falff_data[sub].append(pre_falff)\n",
    "\n",
    "# save falff\n",
    "for sub in sub_list[1:]:\n",
    "    pre_falff_data[sub].append(np.nan)\n",
    "    post_falff_data[sub].append(np.nan)\n",
    "pre_df = pd.DataFrame(pre_falff_data, columns=sub_list, index=run_list+['09'])\n",
    "post_df = pd.DataFrame(post_falff_data, columns=sub_list, index=run_list+['09'])\n",
    "pre_df.to_pickle(pjoin(data_pth, 'pre_falff_data.pickle'))\n",
    "post_df.to_pickle(pjoin(data_pth, 'post_falff_data.pickle'))"
   ]
  }
 ],
 "metadata": {
  "kernelspec": {
   "display_name": "Python 3",
   "language": "python",
   "name": "python3"
  },
  "language_info": {
   "codemirror_mode": {
    "name": "ipython",
    "version": 3
   },
   "file_extension": ".py",
   "mimetype": "text/x-python",
   "name": "python",
   "nbconvert_exporter": "python",
   "pygments_lexer": "ipython3",
   "version": "3.7.6"
  },
  "varInspector": {
   "cols": {
    "lenName": 16,
    "lenType": 16,
    "lenVar": 40
   },
   "kernels_config": {
    "python": {
     "delete_cmd_postfix": "",
     "delete_cmd_prefix": "del ",
     "library": "var_list.py",
     "varRefreshCmd": "print(var_dic_list())"
    },
    "r": {
     "delete_cmd_postfix": ") ",
     "delete_cmd_prefix": "rm(",
     "library": "var_list.r",
     "varRefreshCmd": "cat(var_dic_list()) "
    }
   },
   "types_to_exclude": [
    "module",
    "function",
    "builtin_function_or_method",
    "instance",
    "_Feature"
   ],
   "window_display": false
  }
 },
 "nbformat": 4,
 "nbformat_minor": 4
}
