{
 "cells": [
  {
   "cell_type": "markdown",
   "metadata": {},
   "source": [
    "#  04_plot_bandSNR_figure"
   ]
  },
  {
   "cell_type": "code",
   "execution_count": null,
   "metadata": {},
   "outputs": [],
   "source": [
    "import numpy as np\n",
    "from os.path import join as pjoin\n",
    "from os.path import isdir\n",
    "import os\n",
    "import matplotlib.pyplot as plt\n",
    "from matplotlib import cm, colors\n",
    "import mne_bids\n",
    "import mne\n",
    "from mne_bids import write_raw_bids, BIDSPath\n",
    "from scipy import stats\n",
    "import re\n",
    "from scipy import signal\n",
    "import pandas as pd\n",
    "from scipy import signal, fftpack"
   ]
  },
  {
   "cell_type": "markdown",
   "metadata": {},
   "source": [
    "## define functions"
   ]
  },
  {
   "cell_type": "code",
   "execution_count": null,
   "metadata": {},
   "outputs": [],
   "source": [
    "def plot_topomap(val):\n",
    "    \"\"\"\n",
    "    input params: val: [n_chn(272), 1]\n",
    "    \"\"\"\n",
    "    raw_sub = load_sub_raw_data(subject_idx='01', run_idx='01')\n",
    "    meg_layout = mne.channels.find_layout(raw_sub.info, ch_type='meg')\n",
    "    intercorr_chn = []\n",
    "    ch_name_picks = mne.pick_channels_regexp(raw_sub.ch_names, regexp='M[LRZ]...-4503')\n",
    "    type_picks = mne.pick_types(raw_sub.info, meg=True)\n",
    "    picks= np.intersect1d(ch_name_picks, type_picks)\n",
    "    for idx in picks:\n",
    "        intercorr_chn.append(raw_sub.ch_names[idx][:5])\n",
    "    exclude_list = [x for x in meg_layout.names if x not in intercorr_chn]\n",
    "    meg_layout = mne.channels.find_layout(raw_sub.info, ch_type='meg', exclude=exclude_list)\n",
    "\n",
    "    pos = meg_layout.pos[:,:2]\n",
    "    x_min = np.min(pos[:,0])\n",
    "    x_max = np.max(pos[:,0])\n",
    "    y_min = np.min(pos[:,1])\n",
    "    y_max = np.max(pos[:,1])\n",
    "    center_x = (x_min + x_max)/2\n",
    "    center_y = (y_min + y_max)/2\n",
    "    layout_pos = np.zeros(pos.shape)\n",
    "    for i, coor in enumerate(pos):\n",
    "        layout_pos[i,0] = coor[0] - center_x\n",
    "        layout_pos[i,1] = coor[1] - center_y\n",
    "        \n",
    "    plt.figure()\n",
    "    mne.viz.plot_topomap(val, layout_pos, cmap='viridis', sphere=np.array([0,0,0,0.5]))\n",
    "    norm = colors.Normalize(vmin=np.min(val), vmax=np.max(val))\n",
    "    plt.colorbar(cm.ScalarMappable(norm=norm, cmap='viridis'))"
   ]
  },
  {
   "cell_type": "markdown",
   "metadata": {},
   "source": [
    "## define variables"
   ]
  },
  {
   "cell_type": "code",
   "execution_count": 1,
   "metadata": {},
   "outputs": [],
   "source": [
    "sub_list = ['{0:0>2d}'.format(sub) for sub in np.arange(1,12)]\n",
    "run_list = ['{0:0>2d}'.format(run) for run in np.arange(1,9)]\n",
    "band = ['delta', 'theta', 'alpha', 'beta', 'gamma']\n",
    "# change path\n",
    "data_pth = '/nfs/s2/userhome/daiyuxuan/workingdir/MEG-paper/output_data'\n",
    "bids_root = '/nfs/e2/workingshop/daiyuxuan/MEG-paper/preproc_data' "
   ]
  },
  {
   "cell_type": "markdown",
   "metadata": {},
   "source": [
    "## Load data"
   ]
  },
  {
   "cell_type": "code",
   "execution_count": null,
   "metadata": {},
   "outputs": [],
   "source": [
    "# load falff\n",
    "pre_df = pd.read_pickle(pjoin(data_pth, 'pre_falff_data.pickle'))\n",
    "post_df = pd.read_pickle(pjoin(data_pth, 'post_falff_data.pickle'))"
   ]
  },
  {
   "cell_type": "markdown",
   "metadata": {},
   "source": [
    "## boxplot of bandSNR"
   ]
  },
  {
   "cell_type": "code",
   "execution_count": null,
   "metadata": {},
   "outputs": [],
   "source": [
    "for sub in sub_list:\n",
    "    if sub == '01':\n",
    "        run_ls = run_list + ['09']\n",
    "    else:\n",
    "        run_ls = run_list\n",
    "    \n",
    "    for run in run_ls:\n",
    "        pre_falff = pre_df[sub][run]\n",
    "        post_falff = post_df[sub][run]\n",
    "        \n",
    "        if run == '01':\n",
    "            run_pre_falff = pre_falff\n",
    "            run_post_falff = post_falff\n",
    "        else:\n",
    "            run_pre_falff = np.vstack((run_pre_falff, pre_falff))\n",
    "            run_post_falff = np.vstack((run_post_falff, post_falff))\n",
    "    \n",
    "    if sub == '01':\n",
    "        mean_pre_falff = np.mean(run_pre_falff, axis=0)\n",
    "        mean_post_falff = np.mean(run_post_falff, axis=0)\n",
    "    else:\n",
    "        mean_pre_falff = np.vstack((mean_pre_falff, np.mean(run_pre_falff, axis=0)))\n",
    "        mean_post_falff = np.vstack((mean_post_falff, np.mean(run_post_falff, axis=0)))\n",
    "\n",
    "fig, ax1 = plt.subplots()\n",
    "plt.suptitle('Pre & post fALFF')\n",
    "bp1 = ax1.boxplot(mean_pre_falff, patch_artist=True, whis=0.95, labels=band)\n",
    "for patch in bp1['boxes']:\n",
    "    patch.set_facecolor('lightgreen')\n",
    "ax1.set_ylabel('pre falff')\n",
    "\n",
    "ax2 = ax1.twinx()\n",
    "bp2 = ax2.boxplot(mean_post_falff, patch_artist=True, whis=0.95, labels=band)\n",
    "for patch in bp2['boxes']:\n",
    "    patch.set_facecolor('lightblue')\n",
    "ax2.set_ylabel('post falff')\n",
    "ax2.set_ylim(top=0.35)\n",
    "    \n",
    "ax1.legend([bp1['boxes'][0], bp2['boxes'][0]], ['Pre', 'Post'] ,loc='best')\n"
   ]
  },
  {
   "cell_type": "markdown",
   "metadata": {},
   "source": [
    "## topographic brain map of bandSNR"
   ]
  },
  {
   "cell_type": "code",
   "execution_count": null,
   "metadata": {},
   "outputs": [],
   "source": [
    "# example of sub01-run01\n",
    "for i, band_n in enumerate(band):\n",
    "    plot_topomap(pre_df['01']['01'][:,i])\n",
    "    plt.title(f'pre {band_n}')\n",
    "    plot_topomap(post_df['01']['01'][:,i])\n",
    "    plt.title(f'post {band_n}')\n"
   ]
  }
 ],
 "metadata": {
  "kernelspec": {
   "display_name": "Python 3",
   "language": "python",
   "name": "python3"
  },
  "language_info": {
   "codemirror_mode": {
    "name": "ipython",
    "version": 3
   },
   "file_extension": ".py",
   "mimetype": "text/x-python",
   "name": "python",
   "nbconvert_exporter": "python",
   "pygments_lexer": "ipython3",
   "version": "3.7.6"
  },
  "varInspector": {
   "cols": {
    "lenName": 16,
    "lenType": 16,
    "lenVar": 40
   },
   "kernels_config": {
    "python": {
     "delete_cmd_postfix": "",
     "delete_cmd_prefix": "del ",
     "library": "var_list.py",
     "varRefreshCmd": "print(var_dic_list())"
    },
    "r": {
     "delete_cmd_postfix": ") ",
     "delete_cmd_prefix": "rm(",
     "library": "var_list.r",
     "varRefreshCmd": "cat(var_dic_list()) "
    }
   },
   "types_to_exclude": [
    "module",
    "function",
    "builtin_function_or_method",
    "instance",
    "_Feature"
   ],
   "window_display": false
  }
 },
 "nbformat": 4,
 "nbformat_minor": 4
}
