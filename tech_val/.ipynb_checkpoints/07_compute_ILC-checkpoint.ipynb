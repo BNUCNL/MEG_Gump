{
 "cells": [
  {
   "cell_type": "markdown",
   "metadata": {},
   "source": [
    "# 07_compute_ILC"
   ]
  },
  {
   "cell_type": "markdown",
   "metadata": {},
   "source": [
    "compute interlobe correlation"
   ]
  },
  {
   "cell_type": "code",
   "execution_count": null,
   "metadata": {},
   "outputs": [],
   "source": [
    "import numpy as np\n",
    "from os.path import join as pjoin\n",
    "from os.path import isdir\n",
    "import os\n",
    "import matplotlib.pyplot as plt\n",
    "from matplotlib import cm, colors\n",
    "import mne_bids\n",
    "import mne\n",
    "from mne_bids import write_raw_bids, BIDSPath\n",
    "from scipy import stats\n",
    "import re\n",
    "from scipy import signal\n",
    "import pandas as pd\n",
    "from scipy import signal, fftpack"
   ]
  },
  {
   "cell_type": "markdown",
   "metadata": {},
   "source": [
    "## define functions"
   ]
  },
  {
   "cell_type": "code",
   "execution_count": null,
   "metadata": {},
   "outputs": [],
   "source": [
    "def compute_intercorr(sub_idx, run, bids_root):\n",
    "    \n",
    "    sub_path = BIDSPath(subject=sub_idx, run=int(run), task='movie', session='movie', processing='preproc', root=bids_root)\n",
    "    raw_sub = mne_bids.read_raw_bids(sub_path)\n",
    "    ref_path = BIDSPath(subject='02', run=int('01'), task='movie', session='movie', processing='preproc', root=bids_root)\n",
    "    raw_ref = mne_bids.read_raw_bids(ref_path)\n",
    "    # A reference is necessary for detecting bad channel, I simply use the original raw data for the conveinence.\n",
    "    \n",
    "    ch_name_picks = mne.pick_channels_regexp(raw_sub.ch_names, regexp='M[LRZ]...-4503')\n",
    "    type_picks = mne.pick_types(raw_sub.info, meg=True)\n",
    "    sub_picks= np.intersect1d(ch_name_picks, type_picks)\n",
    "    ch_name_picks_ref = mne.pick_channels_regexp(raw_ref.ch_names, regexp='M[LRZ]...-4503')\n",
    "    type_picks_ref = mne.pick_types(raw_ref.info, meg=True)\n",
    "    ref_picks= np.intersect1d(ch_name_picks_ref, type_picks_ref)\n",
    "    if len(sub_picks) == len(ref_picks):\n",
    "        if (sub_picks == ref_picks).all():\n",
    "            picks = sub_picks\n",
    "        else:\n",
    "            picks = np.intersect1d(sub_picks, ref_picks)\n",
    "        bad_idx = []\n",
    "    else:\n",
    "        picks = sub_picks if len(sub_picks) > len(ref_picks) else ref_picks\n",
    "        bad_picks = np.union1d(np.setdiff1d(sub_picks, ref_picks), np.setdiff1d(ref_picks, sub_picks))\n",
    "    \n",
    "        bad_idx = []\n",
    "        for chn in bad_picks:\n",
    "            bad_idx.append(np.where(picks == chn)[0][0])\n",
    "\n",
    "    sub_data = raw_sub.get_data(picks=picks)\n",
    "    sub_envlope = np.abs(signal.hilbert(sub_data))\n",
    "    \n",
    "    if len(bad_idx) != 0:\n",
    "        for idx in bad_idx:\n",
    "            sub_envlope[idx,:] = 0\n",
    "    \n",
    "    #downsampling\n",
    "    events_sub = mne.events_from_annotations(raw_sub)\n",
    "    sample_sub = events_sub[0][1:-1:25,0]\n",
    "    sub_dsamp = sub_envlope.take(sample_sub, axis=1)\n",
    "    \n",
    "    intra_lobe_corr = np.zeros((len(picks), len(picks)))\n",
    "\n",
    "    for i in np.arange(len(picks)):\n",
    "        sub_data1 = sub_dsamp.take(i, axis=0)\n",
    "        \n",
    "        for j in np.arange(len(picks)):\n",
    "            sub_data2 = sub_dsamp.take(j, axis=0)\n",
    "        \n",
    "            r, p = stats.pearsonr(sub_data1, sub_data2)\n",
    "            \n",
    "            intra_lobe_corr[i][j] = intra_lobe_corr[j][i] = r\n",
    "    \n",
    "    ch_name = []\n",
    "    for idx in picks:\n",
    "        ch_name.append(raw_sub.ch_names[idx])\n",
    "    labels = ['LC', 'LF', 'LO', 'LP', 'LT', 'RC', 'RF', 'RO', 'RP', 'RT']\n",
    "    ch_labels = dict()\n",
    "    for label in labels:\n",
    "        reg = re.compile('M'+label+'.*')\n",
    "        tmp_chs = list(filter(reg.match, ch_name))\n",
    "        ch_labels[label] = [ch_name.index(x) for x in tmp_chs]\n",
    "    \n",
    "    mean_lobe_corr = np.zeros((len(labels), len(labels)))\n",
    "    \n",
    "    for i, (roi_x, ch_idx_x) in enumerate(ch_labels.items()):\n",
    "        for j, (roi_y, ch_idx_y) in enumerate(ch_labels.items()):\n",
    "            tmp = intra_lobe_corr.take(ch_idx_x, axis=0)\n",
    "            roi_val = tmp.take(ch_idx_y, axis=1)\n",
    "            mean_lobe_corr[i][j] = np.mean(roi_val)\n",
    "            \n",
    "    return mean_lobe_corr\n"
   ]
  },
  {
   "cell_type": "markdown",
   "metadata": {},
   "source": [
    "## define variables"
   ]
  },
  {
   "cell_type": "code",
   "execution_count": null,
   "metadata": {},
   "outputs": [],
   "source": [
    "bids_root = '/nfs/e5/studyforrest/forrest_movie_meg/preproc_data'\n",
    "labels = ['LC', 'LF', 'LO', 'LP', 'LT', 'RC', 'RF', 'RO', 'RP', 'RT']\n",
    "sub_list = ['{0:0>2d}'.format(sub) for sub in np.arange(1,12)]\n",
    "run_list = ['{0:0>2d}'.format(run) for run in np.arange(1,9)]\n",
    "data_pth = '/nfs/s2/userhome/daiyuxuan/workingdir/MEG-paper/output_data'"
   ]
  },
  {
   "cell_type": "markdown",
   "metadata": {},
   "source": [
    "## compute Interlobe correlation"
   ]
  },
  {
   "cell_type": "code",
   "execution_count": null,
   "metadata": {},
   "outputs": [],
   "source": [
    "interlobe_corr = {}\n",
    "for sub in sub_list:\n",
    "    interlobe_corr[sub] = []\n",
    "    if sub == '01':\n",
    "        run_ls = run_list + ['09']\n",
    "    else:\n",
    "        run_ls = run_list\n",
    "    for run in run_ls:\n",
    "        mean_lobe_corr = compute_intercorr(sub, run, bids_root)\n",
    "        interlobe_corr[sub].append(mean_lobe_corr)\n",
    "        \n",
    "# save ILC data\n",
    "for sub in sub_list[1:]:\n",
    "    interlobe_corr[sub].append(np.nan)\n",
    "df = pd.DataFrame(interlobe_corr, columns=sub_list, index=run_list+['09'])\n",
    "df.to_pickle(pjoin(data_pth, 'interlobe_correlation.pickle'))"
   ]
  }
 ],
 "metadata": {
  "kernelspec": {
   "display_name": "Python 3",
   "language": "python",
   "name": "python3"
  },
  "language_info": {
   "codemirror_mode": {
    "name": "ipython",
    "version": 3
   },
   "file_extension": ".py",
   "mimetype": "text/x-python",
   "name": "python",
   "nbconvert_exporter": "python",
   "pygments_lexer": "ipython3",
   "version": "3.7.6"
  },
  "varInspector": {
   "cols": {
    "lenName": 16,
    "lenType": 16,
    "lenVar": 40
   },
   "kernels_config": {
    "python": {
     "delete_cmd_postfix": "",
     "delete_cmd_prefix": "del ",
     "library": "var_list.py",
     "varRefreshCmd": "print(var_dic_list())"
    },
    "r": {
     "delete_cmd_postfix": ") ",
     "delete_cmd_prefix": "rm(",
     "library": "var_list.r",
     "varRefreshCmd": "cat(var_dic_list()) "
    }
   },
   "types_to_exclude": [
    "module",
    "function",
    "builtin_function_or_method",
    "instance",
    "_Feature"
   ],
   "window_display": false
  }
 },
 "nbformat": 4,
 "nbformat_minor": 4
}
