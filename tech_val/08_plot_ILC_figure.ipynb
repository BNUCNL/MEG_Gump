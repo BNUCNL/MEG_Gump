{
 "cells": [
  {
   "cell_type": "markdown",
   "metadata": {},
   "source": [
    "# 08_plot_ILC_figure"
   ]
  },
  {
   "cell_type": "code",
   "execution_count": 1,
   "metadata": {},
   "outputs": [],
   "source": [
    "import numpy as np\n",
    "from os.path import join as pjoin\n",
    "from os.path import isdir\n",
    "import os\n",
    "import matplotlib.pyplot as plt\n",
    "from matplotlib import cm, colors\n",
    "import mne_bids\n",
    "import mne\n",
    "from mne_bids import write_raw_bids, BIDSPath\n",
    "from scipy import stats\n",
    "import re\n",
    "from scipy import signal\n",
    "import pandas as pd\n",
    "from scipy import signal, fftpack"
   ]
  },
  {
   "cell_type": "code",
   "execution_count": 24,
   "metadata": {},
   "outputs": [],
   "source": [
    "# define variables\n",
    "sub_list = ['{0:0>2d}'.format(sub) for sub in np.arange(1,12)]\n",
    "run_list = ['{0:0>2d}'.format(run) for run in np.arange(1,9)]\n",
    "labels = ['LC', 'LF', 'LO', 'LP', 'LT', 'RC', 'RF', 'RO', 'RP', 'RT']\n",
    "\n",
    "# set path\n",
    "pre_root = '/nfs/e5/studyforrest/forrest_movie_meg/gump_meg_bids'\n",
    "post_root = pjoin(pre_root, 'derivatives', 'preproc_meg-mne_mri-fmriprep')\n",
    "results_pth = '/nfs/e5/studyforrest/forrest_movie_meg/tech_val_results'"
   ]
  },
  {
   "cell_type": "code",
   "execution_count": 22,
   "metadata": {},
   "outputs": [],
   "source": [
    "def get_picks(data):\n",
    "    # get valid channels\n",
    "    ch_name_picks = mne.pick_channels_regexp(data.ch_names, regexp='M[LRZ]...-4503')\n",
    "    type_picks = mne.pick_types(data.info, meg=True)\n",
    "    picks= np.intersect1d(ch_name_picks, type_picks)\n",
    "    return picks\n",
    "\n",
    "def ch_ilc2roi_ilc(ch_corr, ch_name):\n",
    "    \n",
    "    labels = ['LC', 'LF', 'LO', 'LP', 'LT', 'RC', 'RF', 'RO', 'RP', 'RT']\n",
    "    ch_labels = dict()\n",
    "    for label in labels:\n",
    "        reg = re.compile('M'+label+'.*')\n",
    "        tmp_chs = list(filter(reg.match, ch_name))\n",
    "        ch_labels[label] = [ch_name.index(x) for x in tmp_chs]\n",
    "\n",
    "    roi_corr = np.zeros((len(labels), len(labels)))\n",
    "\n",
    "    for i, (roi_x, ch_idx_x) in enumerate(ch_labels.items()):\n",
    "        for j, (roi_y, ch_idx_y) in enumerate(ch_labels.items()):\n",
    "            tmp = ch_corr.take(ch_idx_x, axis=0)\n",
    "            roi_val = tmp.take(ch_idx_y, axis=1)\n",
    "            roi_corr[i][j] = np.mean(roi_val)\n",
    "    return roi_corr\n",
    "\n",
    "def plot_lobecorr_rdm(lobe_corr, fig, ax, label):\n",
    "    \n",
    "    c = ax.pcolor(lobe_corr)\n",
    "    fig.colorbar(c, ax=ax)\n",
    "    \n",
    "    ax.set_xticks(np.arange(0.5, len(label), 1))\n",
    "    ax.set_yticks(np.arange(0.5, len(label), 1))\n",
    "    ax.set_xticklabels(label)\n",
    "    ax.set_yticklabels(label)\n",
    "    ax.set_aspect('equal', adjustable='box')\n",
    "\n",
    "def plot_lobecorr_box(lobe_corr, ax):\n",
    "    \n",
    "    same_hemi_same_lobe = []\n",
    "    for i in np.arange(lobe_corr.shape[0]):\n",
    "        same_hemi_same_lobe.append(lobe_corr[i, i])\n",
    "        \n",
    "    diff_hemi_same_lobe = []\n",
    "    for i in np.arange(5):\n",
    "        diff_hemi_same_lobe.append(lobe_corr[i, 5+i])\n",
    "        diff_hemi_same_lobe.append(lobe_corr[5+i, i])\n",
    "        \n",
    "    same_hemi_diff_lobe = np.array([])\n",
    "    for i in [0,5]:\n",
    "        same_hemi_diff_lobe = np.append(same_hemi_diff_lobe, (lobe_corr[i:i+5, i:i+5].ravel()[np.flatnonzero(np.tril(lobe_corr[i:i+5, i:i+5], k=-1))]))\n",
    "        same_hemi_diff_lobe = np.append(same_hemi_diff_lobe,(lobe_corr[i:i+5, i:i+5].ravel()[np.flatnonzero(np.triu(lobe_corr[i:i+5, i:i+5], k=1))]))\n",
    "    diff_hemi_diff_lobe = np.array([])\n",
    "    for i in [0,5]:\n",
    "        diff_hemi_diff_lobe = np.append(diff_hemi_diff_lobe, (lobe_corr[i:i+5, 5-i:10-i].ravel()[np.flatnonzero(np.tril(lobe_corr[i:i+5, 5-i:10-i], k=-1))]))\n",
    "        diff_hemi_diff_lobe = np.append(diff_hemi_diff_lobe,(lobe_corr[i:i+5, 5-i:10-i].ravel()[np.flatnonzero(np.triu(lobe_corr[i:i+5, 5-i:10-i], k=1))]))\n",
    "    \n",
    "    ax.boxplot(same_hemi_same_lobe, positions=[1], whis=0.95)\n",
    "    ax.boxplot(same_hemi_diff_lobe, positions=[3], whis=0.95)\n",
    "    ax.boxplot(diff_hemi_same_lobe, positions=[5], whis=0.95)\n",
    "    ax.boxplot(diff_hemi_diff_lobe, positions=[7], whis=0.95)\n",
    "    \n",
    "    ax.set_xticks([1,3,5,7])\n",
    "    ax.set_xticklabels(['s_hem_s_lobe', 's_hem_d_lobe', 'd_hem_s_lobe', 'd_hem_d_lobe'])\n",
    "    ax.set_ylabel('corr coef')\n",
    "    \n",
    "    x = [1, 3, 5, 7]\n",
    "    y = [np.array(same_hemi_same_lobe), same_hemi_diff_lobe, np.array(diff_hemi_same_lobe), diff_hemi_diff_lobe]\n",
    "    for xs, val in zip(x, y):\n",
    "        xx = np.ones(val.shape)*xs\n",
    "        ax.scatter(xx, val, alpha=0.4)\n",
    "        "
   ]
  },
  {
   "cell_type": "code",
   "execution_count": 17,
   "metadata": {},
   "outputs": [],
   "source": [
    "# load data\n",
    "ilc = pd.read_pickle(pjoin(results_pth, 'ilc.pickle'))"
   ]
  },
  {
   "cell_type": "code",
   "execution_count": 20,
   "metadata": {},
   "outputs": [
    {
     "name": "stdout",
     "output_type": "stream",
     "text": [
      "ds directory : /nfs/e5/studyforrest/forrest_movie_meg/gump_meg_bids/sub-01/ses-movie/meg/sub-01_ses-movie_task-movie_run-01_meg.ds\n",
      "    res4 data read.\n",
      "    hc data read.\n",
      "    Separate EEG position data file read.\n",
      "    Quaternion matching (desired vs. transformed):\n",
      "       4.65   74.88    0.00 mm <->    4.65   74.88    0.00 mm (orig :  -65.68   46.24 -249.17 mm) diff =    0.000 mm\n",
      "      -4.65  -74.88    0.00 mm <->   -4.65  -74.88    0.00 mm (orig :   42.00  -58.24 -250.44 mm) diff =    0.000 mm\n",
      "      92.94    0.00    0.00 mm <->   92.94   -0.00    0.00 mm (orig :   46.46   62.07 -225.18 mm) diff =    0.000 mm\n",
      "    Coordinate transformations established.\n",
      "    Polhemus data for 3 HPI coils added\n",
      "    Device coordinate locations for 3 HPI coils added\n",
      "    Measurement info composed.\n",
      "Finding samples for /nfs/e5/studyforrest/forrest_movie_meg/gump_meg_bids/sub-01/ses-movie/meg/sub-01_ses-movie_task-movie_run-01_meg.ds/sub-01_ses-movie_task-movie_run-01_meg.meg4: \n",
      "    System clock channel is available, checking which samples are valid.\n",
      "    3 x 186000 = 558000 samples from 409 chs\n",
      "Current compensation grade : 3\n",
      "Reading events from /nfs/e5/studyforrest/forrest_movie_meg/gump_meg_bids/sub-01/ses-movie/meg/sub-01_ses-movie_task-movie_run-01_events.tsv.\n",
      "Reading channel info from /nfs/e5/studyforrest/forrest_movie_meg/gump_meg_bids/sub-01/ses-movie/meg/sub-01_ses-movie_task-movie_run-01_channels.tsv.\n"
     ]
    }
   ],
   "source": [
    "sub_path = BIDSPath(subject='01', run='01', task='movie', session='movie', root='/nfs/e5/studyforrest/forrest_movie_meg/gump_meg_bids')\n",
    "raw_sub = mne_bids.read_raw_bids(sub_path)\n",
    "picks = get_picks(raw_sub)\n",
    "\n",
    "ch_name = []\n",
    "for idx in picks:\n",
    "    ch_name.append(raw_sub.ch_names[idx])"
   ]
  },
  {
   "cell_type": "code",
   "execution_count": 25,
   "metadata": {},
   "outputs": [
    {
     "data": {
      "image/png": "[encoded data removed]",
      "text/plain": [
       "<Figure size 720x288 with 3 Axes>"
      ]
     },
     "metadata": {
      "needs_background": "light"
     },
     "output_type": "display_data"
    }
   ],
   "source": [
    "lobe_corr = np.zeros((10, 10))\n",
    "for sub in sub_list:\n",
    "    if sub == '01':\n",
    "        run_ls = run_list + ['09']\n",
    "    else:\n",
    "        run_ls = run_list\n",
    "    \n",
    "    for run in run_ls: \n",
    "        lobe_corr += ch_ilc2roi_ilc(ilc[sub][run], ch_name)\n",
    "lobe_corr /= (len(sub_list)*len(run_list)+1)\n",
    "\n",
    "fig, axes = plt.subplots(1, 2, figsize=(10,4))\n",
    "plt.suptitle('Interlobe Correlation')\n",
    "plot_lobecorr_rdm(lobe_corr, fig, axes[0], labels)\n",
    "plot_lobecorr_box(lobe_corr, axes[1])"
   ]
  }
 ],
 "metadata": {
  "kernelspec": {
   "display_name": "Python 3",
   "language": "python",
   "name": "python3"
  },
  "language_info": {
   "codemirror_mode": {
    "name": "ipython",
    "version": 3
   },
   "file_extension": ".py",
   "mimetype": "text/x-python",
   "name": "python",
   "nbconvert_exporter": "python",
   "pygments_lexer": "ipython3",
   "version": "3.8.5"
  },
  "varInspector": {
   "cols": {
    "lenName": 16,
    "lenType": 16,
    "lenVar": 40
   },
   "kernels_config": {
    "python": {
     "delete_cmd_postfix": "",
     "delete_cmd_prefix": "del ",
     "library": "var_list.py",
     "varRefreshCmd": "print(var_dic_list())"
    },
    "r": {
     "delete_cmd_postfix": ") ",
     "delete_cmd_prefix": "rm(",
     "library": "var_list.r",
     "varRefreshCmd": "cat(var_dic_list()) "
    }
   },
   "types_to_exclude": [
    "module",
    "function",
    "builtin_function_or_method",
    "instance",
    "_Feature"
   ],
   "window_display": false
  }
 },
 "nbformat": 4,
 "nbformat_minor": 4
}
