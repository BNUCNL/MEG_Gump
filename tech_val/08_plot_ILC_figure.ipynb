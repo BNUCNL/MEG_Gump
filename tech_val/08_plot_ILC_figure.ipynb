{
 "cells": [
  {
   "cell_type": "markdown",
   "metadata": {},
   "source": [
    "# 08_plot_ILC_figure"
   ]
  },
  {
   "cell_type": "code",
   "execution_count": 1,
   "metadata": {},
   "outputs": [],
   "source": [
    "import numpy as np\n",
    "from os.path import join as pjoin\n",
    "from os.path import isdir\n",
    "import os\n",
    "import matplotlib.pyplot as plt\n",
    "from matplotlib import cm, colors\n",
    "import mne_bids\n",
    "import mne\n",
    "from mne_bids import write_raw_bids, BIDSPath\n",
    "from scipy import stats\n",
    "import pandas as pd\n",
    "import re"
   ]
  },
  {
   "cell_type": "code",
   "execution_count": 2,
   "metadata": {},
   "outputs": [],
   "source": [
    "# define variables\n",
    "sub_list = ['{0:0>2d}'.format(sub) for sub in np.arange(1,12)]\n",
    "run_list = ['{0:0>2d}'.format(run) for run in np.arange(1,9)]\n",
    "labels = ['LO', 'LP', 'LT', 'LF', 'LC', 'RO', 'RP', 'RT', 'RF', 'RC']\n",
    "\n",
    "# set path\n",
    "pre_root = '/nfs/e5/studyforrest/forrest_movie_meg/gump_meg_bids'\n",
    "post_root = pjoin(pre_root, 'derivatives', 'preproc_meg-mne_mri-fmriprep')\n",
    "results_pth = '/nfs/e5/studyforrest/forrest_movie_meg/tech_val_results'"
   ]
  },
  {
   "cell_type": "code",
   "execution_count": 4,
   "metadata": {},
   "outputs": [
    {
     "name": "stdout",
     "output_type": "stream",
     "text": [
      "ds directory : /nfs/e5/studyforrest/forrest_movie_meg/gump_meg_bids/sub-01/ses-movie/meg/sub-01_ses-movie_task-movie_run-01_meg.ds\n",
      "    res4 data read.\n",
      "    hc data read.\n",
      "    Separate EEG position data file read.\n",
      "    Quaternion matching (desired vs. transformed):\n",
      "       4.65   74.88    0.00 mm <->    4.65   74.88    0.00 mm (orig :  -65.68   46.24 -249.17 mm) diff =    0.000 mm\n",
      "      -4.65  -74.88    0.00 mm <->   -4.65  -74.88    0.00 mm (orig :   42.00  -58.24 -250.44 mm) diff =    0.000 mm\n",
      "      92.94    0.00    0.00 mm <->   92.94   -0.00    0.00 mm (orig :   46.46   62.07 -225.18 mm) diff =    0.000 mm\n",
      "    Coordinate transformations established.\n",
      "    Polhemus data for 3 HPI coils added\n",
      "    Device coordinate locations for 3 HPI coils added\n",
      "    Measurement info composed.\n",
      "Finding samples for /nfs/e5/studyforrest/forrest_movie_meg/gump_meg_bids/sub-01/ses-movie/meg/sub-01_ses-movie_task-movie_run-01_meg.ds/sub-01_ses-movie_task-movie_run-01_meg.meg4: \n",
      "    System clock channel is available, checking which samples are valid.\n",
      "    3 x 186000 = 558000 samples from 409 chs\n",
      "Current compensation grade : 3\n",
      "Reading events from /nfs/e5/studyforrest/forrest_movie_meg/gump_meg_bids/sub-01/ses-movie/meg/sub-01_ses-movie_task-movie_run-01_events.tsv.\n",
      "Reading channel info from /nfs/e5/studyforrest/forrest_movie_meg/gump_meg_bids/sub-01/ses-movie/meg/sub-01_ses-movie_task-movie_run-01_channels.tsv.\n"
     ]
    }
   ],
   "source": [
    "sub_path = BIDSPath(subject='01', run='01', task='movie', session='movie', root='/nfs/e5/studyforrest/forrest_movie_meg/gump_meg_bids')\n",
    "raw_sub = mne_bids.read_raw_bids(sub_path)\n",
    "picks = get_picks(raw_sub)\n",
    "\n",
    "ch_name = []\n",
    "for idx in picks:\n",
    "    ch_name.append(raw_sub.ch_names[idx])"
   ]
  },
  {
   "cell_type": "code",
   "execution_count": 5,
   "metadata": {},
   "outputs": [],
   "source": [
    "# load data\n",
    "ilc_post = pd.read_pickle(pjoin(results_pth, 'ilc_post.pickle'))\n",
    "ilc_pre = pd.read_pickle(pjoin(results_pth, 'ilc_pre.pickle'))\n",
    "\n",
    "pre_corr = np.zeros((10, 10))\n",
    "post_corr = np.zeros((10, 10))\n",
    "for sub in sub_list:\n",
    "    if sub == '01':\n",
    "        run_ls = run_list + ['09']\n",
    "    else:\n",
    "        run_ls = run_list\n",
    "    \n",
    "    for run in run_ls: \n",
    "        pre_corr += ch_ilc2roi_ilc(ilc_pre[sub][run], ch_name, labels)\n",
    "        post_corr += ch_ilc2roi_ilc(ilc_post[sub][run], ch_name, labels)\n",
    "pre_corr /= (len(sub_list)*len(run_list)+1)\n",
    "post_corr /= (len(sub_list)*len(run_list)+1)"
   ]
  },
  {
   "cell_type": "code",
   "execution_count": 56,
   "metadata": {},
   "outputs": [],
   "source": [
    "def get_picks(data):\n",
    "    # get valid channels\n",
    "    ch_name_picks = mne.pick_channels_regexp(data.ch_names, regexp='M[LRZ]...-4503')\n",
    "    type_picks = mne.pick_types(data.info, meg=True)\n",
    "    picks= np.intersect1d(ch_name_picks, type_picks)\n",
    "    return picks\n",
    "\n",
    "def ch_ilc2roi_ilc(ch_corr, ch_name, labels):\n",
    "    \n",
    "    ch_labels = dict()\n",
    "    for label in labels:\n",
    "        reg = re.compile('M'+label+'.*')\n",
    "        tmp_chs = list(filter(reg.match, ch_name))\n",
    "        ch_labels[label] = [ch_name.index(x) for x in tmp_chs]\n",
    "\n",
    "    roi_corr = np.zeros((len(labels), len(labels)))\n",
    "\n",
    "    for i, (roi_x, ch_idx_x) in enumerate(ch_labels.items()):\n",
    "        for j, (roi_y, ch_idx_y) in enumerate(ch_labels.items()):\n",
    "            tmp = ch_corr.take(ch_idx_x, axis=0)\n",
    "            roi_val = tmp.take(ch_idx_y, axis=1)\n",
    "            roi_corr[i][j] = np.mean(roi_val)\n",
    "    return roi_corr\n",
    "\n",
    "def plot_lobecorr_rdm(lobe_corr, fig, ax, label):\n",
    "    \n",
    "    c = ax.pcolor(lobe_corr, vmin=0.05, vmax=0.45)\n",
    "    fig.colorbar(c, ax=ax)\n",
    "    \n",
    "    ax.set_xticks(np.arange(0.5, len(label), 1))\n",
    "    ax.set_yticks(np.arange(0.5, len(label), 1))\n",
    "    ax.set_xticklabels(label)\n",
    "    ax.set_yticklabels(label)\n",
    "    ax.set_aspect('equal', adjustable='box')\n",
    "\n",
    "\n",
    "def plot_lobecorr_box(lobe_corr, ax):\n",
    "    \n",
    "    x_ticks=[1,2, 4,5]\n",
    "    # colors = ['gold', 'goldenrod', 'cornflowerblue', 'midnightblue']\n",
    "    colors = ['cornflowerblue', 'midnightblue', 'cornflowerblue', 'midnightblue']\n",
    "    \n",
    "    same_hemi_same_lobe = lobe_corr[range(lobe_corr.shape[0]), range(lobe_corr.shape[0])]\n",
    "    same_hemi_diff_lobe = lobe_corr[np.triu_indices(5, 1)]\n",
    "    diff_hemi_same_lobe = lobe_corr[range(5), np.arange(5,10,1)]   \n",
    "    diff_hemi_diff_lobe = lobe_corr[:5, 5:][np.triu_indices(5, 1)]\n",
    "\n",
    "    \n",
    "    y = [np.array(same_hemi_same_lobe), same_hemi_diff_lobe, np.array(diff_hemi_same_lobe), diff_hemi_diff_lobe]\n",
    "    for i, val in enumerate(y):\n",
    "        bplot = ax.boxplot(val, positions=[x_ticks[i]], whis=3, patch_artist=True, \n",
    "                           widths=0.5, medianprops={'color':colors[i]})\n",
    "        bplot['boxes'][0].set_facecolor(colors[i])\n",
    "        bplot['boxes'][0].set_alpha(0.6)\n",
    "        \n",
    "        xx = np.ones(val.shape)*x_ticks[i]\n",
    "        ax.scatter(xx, val, marker='o', s=40, facecolors='none', edgecolors=colors[i])\n",
    "        \n",
    "    ax.set_xlim(0, 6)\n",
    "    ax.set_xticks(x_ticks)\n",
    "    ax.set_xticklabels(['s_hem_s_lobe', 's_hem_d_lobe', 'd_hem_s_lobe', 'd_hem_d_lobe'])\n",
    "    ax.set_ylabel('corr coef')\n",
    "    [ax.spines[i].set_color('gray') for i in ['top', 'bottom', 'left', 'right']]\n",
    "    "
   ]
  },
  {
   "cell_type": "code",
   "execution_count": 57,
   "metadata": {},
   "outputs": [
    {
     "data": {
      "image/png": "[encoded data removed]",
      "text/plain": [
       "<Figure size 720x288 with 3 Axes>"
      ]
     },
     "metadata": {
      "needs_background": "light"
     },
     "output_type": "display_data"
    }
   ],
   "source": [
    "fig, axes = plt.subplots(1, 2, figsize=(10,4))\n",
    "plt.suptitle('Post Interlobe Correlation')\n",
    "plot_lobecorr_rdm(post_corr, fig, axes[0], labels)\n",
    "plot_lobecorr_box(post_corr, axes[1])\n",
    "fig.savefig(pjoin(results_pth, 'postILC.jpg'), dpi=300)"
   ]
  },
  {
   "cell_type": "code",
   "execution_count": null,
   "metadata": {},
   "outputs": [],
   "source": []
  }
 ],
 "metadata": {
  "kernelspec": {
   "display_name": "Python 3",
   "language": "python",
   "name": "python3"
  },
  "language_info": {
   "codemirror_mode": {
    "name": "ipython",
    "version": 3
   },
   "file_extension": ".py",
   "mimetype": "text/x-python",
   "name": "python",
   "nbconvert_exporter": "python",
   "pygments_lexer": "ipython3",
   "version": "3.8.5"
  },
  "varInspector": {
   "cols": {
    "lenName": 16,
    "lenType": 16,
    "lenVar": 40
   },
   "kernels_config": {
    "python": {
     "delete_cmd_postfix": "",
     "delete_cmd_prefix": "del ",
     "library": "var_list.py",
     "varRefreshCmd": "print(var_dic_list())"
    },
    "r": {
     "delete_cmd_postfix": ") ",
     "delete_cmd_prefix": "rm(",
     "library": "var_list.r",
     "varRefreshCmd": "cat(var_dic_list()) "
    }
   },
   "types_to_exclude": [
    "module",
    "function",
    "builtin_function_or_method",
    "instance",
    "_Feature"
   ],
   "window_display": false
  }
 },
 "nbformat": 4,
 "nbformat_minor": 4
}
