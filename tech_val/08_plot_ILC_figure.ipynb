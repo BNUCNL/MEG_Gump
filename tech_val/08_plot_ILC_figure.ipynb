{
 "cells": [
  {
   "cell_type": "markdown",
   "metadata": {},
   "source": [
    "# 08_plot_ILC_figure"
   ]
  },
  {
   "cell_type": "code",
   "execution_count": null,
   "metadata": {},
   "outputs": [],
   "source": [
    "import numpy as np\n",
    "from os.path import join as pjoin\n",
    "from os.path import isdir\n",
    "import os\n",
    "import matplotlib.pyplot as plt\n",
    "from matplotlib import cm, colors\n",
    "import mne_bids\n",
    "import mne\n",
    "from mne_bids import write_raw_bids, BIDSPath\n",
    "from scipy import stats\n",
    "import re\n",
    "from scipy import signal\n",
    "import pandas as pd\n",
    "from scipy import signal, fftpack"
   ]
  },
  {
   "cell_type": "markdown",
   "metadata": {},
   "source": [
    "## define functions"
   ]
  },
  {
   "cell_type": "code",
   "execution_count": null,
   "metadata": {},
   "outputs": [],
   "source": [
    "#######\n",
    "ch_name = []\n",
    "for idx in picks:\n",
    "    ch_name.append(raw_sub.ch_names[idx])\n",
    "labels = ['LC', 'LF', 'LO', 'LP', 'LT', 'RC', 'RF', 'RO', 'RP', 'RT']\n",
    "ch_labels = dict()\n",
    "for label in labels:\n",
    "    reg = re.compile('M'+label+'.*')\n",
    "    tmp_chs = list(filter(reg.match, ch_name))\n",
    "    ch_labels[label] = [ch_name.index(x) for x in tmp_chs]\n",
    "\n",
    "mean_lobe_corr = np.zeros((len(labels), len(labels)))\n",
    "\n",
    "for i, (roi_x, ch_idx_x) in enumerate(ch_labels.items()):\n",
    "    for j, (roi_y, ch_idx_y) in enumerate(ch_labels.items()):\n",
    "        tmp = intra_lobe_corr.take(ch_idx_x, axis=0)\n",
    "        roi_val = tmp.take(ch_idx_y, axis=1)\n",
    "        mean_lobe_corr[i][j] = np.mean(roi_val)"
   ]
  },
  {
   "cell_type": "code",
   "execution_count": null,
   "metadata": {},
   "outputs": [],
   "source": [
    "def plot_lobecorr_rdm(lobe_corr, fig, ax, label):\n",
    "    \n",
    "    c = ax.pcolor(lobe_corr)\n",
    "    fig.colorbar(c, ax=ax)\n",
    "    \n",
    "    ax.set_xticks(np.arange(0.5, len(label), 1))\n",
    "    ax.set_yticks(np.arange(0.5, len(label), 1))\n",
    "    ax.set_xticklabels(label)\n",
    "    ax.set_yticklabels(label)\n",
    "    ax.set_aspect('equal', adjustable='box')\n",
    "\n",
    "def plot_lobecorr_box(lobe_corr, ax):\n",
    "    \n",
    "    same_hemi_same_lobe = []\n",
    "    for i in np.arange(lobe_corr.shape[0]):\n",
    "        same_hemi_same_lobe.append(lobe_corr[i, i])\n",
    "        \n",
    "    diff_hemi_same_lobe = []\n",
    "    for i in np.arange(5):\n",
    "        diff_hemi_same_lobe.append(lobe_corr[i, 5+i])\n",
    "        diff_hemi_same_lobe.append(lobe_corr[5+i, i])\n",
    "        \n",
    "    same_hemi_diff_lobe = np.array([])\n",
    "    for i in [0,5]:\n",
    "        same_hemi_diff_lobe = np.append(same_hemi_diff_lobe, (lobe_corr[i:i+5, i:i+5].ravel()[np.flatnonzero(np.tril(lobe_corr[i:i+5, i:i+5], k=-1))]))\n",
    "        same_hemi_diff_lobe = np.append(same_hemi_diff_lobe,(lobe_corr[i:i+5, i:i+5].ravel()[np.flatnonzero(np.triu(lobe_corr[i:i+5, i:i+5], k=1))]))\n",
    "    diff_hemi_diff_lobe = np.array([])\n",
    "    for i in [0,5]:\n",
    "        diff_hemi_diff_lobe = np.append(diff_hemi_diff_lobe, (lobe_corr[i:i+5, 5-i:10-i].ravel()[np.flatnonzero(np.tril(lobe_corr[i:i+5, 5-i:10-i], k=-1))]))\n",
    "        diff_hemi_diff_lobe = np.append(diff_hemi_diff_lobe,(lobe_corr[i:i+5, 5-i:10-i].ravel()[np.flatnonzero(np.triu(lobe_corr[i:i+5, 5-i:10-i], k=1))]))\n",
    "    \n",
    "    ax.boxplot(same_hemi_same_lobe, positions=[1], whis=0.95)\n",
    "    ax.boxplot(same_hemi_diff_lobe, positions=[3], whis=0.95)\n",
    "    ax.boxplot(diff_hemi_same_lobe, positions=[5], whis=0.95)\n",
    "    ax.boxplot(diff_hemi_diff_lobe, positions=[7], whis=0.95)\n",
    "    \n",
    "    ax.set_xticks([1,3,5,7])\n",
    "    ax.set_xticklabels(['s_hem_s_lobe', 's_hem_d_lobe', 'd_hem_s_lobe', 'd_hem_d_lobe'])\n",
    "    ax.set_ylabel('corr coef')\n",
    "    \n",
    "    x = [1, 3, 5, 7]\n",
    "    y = [np.array(same_hemi_same_lobe), same_hemi_diff_lobe, np.array(diff_hemi_same_lobe), diff_hemi_diff_lobe]\n",
    "    for xs, val in zip(x, y):\n",
    "        xx = np.ones(val.shape)*xs\n",
    "        ax.scatter(xx, val, alpha=0.4)\n",
    "        "
   ]
  },
  {
   "cell_type": "markdown",
   "metadata": {},
   "source": [
    "## load data"
   ]
  },
  {
   "cell_type": "code",
   "execution_count": null,
   "metadata": {},
   "outputs": [],
   "source": [
    "interlobe_corr = pd.read_pickle(pjoin(data_pth, 'interlobe_correlation.pickle'))"
   ]
  },
  {
   "cell_type": "markdown",
   "metadata": {},
   "source": [
    "##  visualization for ILC"
   ]
  },
  {
   "cell_type": "code",
   "execution_count": null,
   "metadata": {},
   "outputs": [],
   "source": [
    "lobe_corr = np.zeros(interlobe_corr['01']['01'].shape)\n",
    "for sub in sub_list:\n",
    "    if sub == '01':\n",
    "        run_ls = run_list + ['09']\n",
    "    else:\n",
    "        run_ls = run_list\n",
    "    for run in run_ls:\n",
    "        interlobe_corr[sub][run][np.isnan(interlobe_corr[sub][run])] = 0\n",
    "        # bad channel will cause NaN corr, replace those with value )\n",
    "        lobe_corr += interlobe_corr[sub][run]\n",
    "lobe_corr /= (len(sub_list)*len(run_list)+1)\n",
    "\n",
    "fig, axes = plt.subplots(1, 2, figsize=(10,4))\n",
    "plt.suptitle('Interlobe Correlation')\n",
    "plot_lobecorr_rdm(lobe_corr, fig, axes[0], labels)\n",
    "plot_lobecorr_box(lobe_corr, axes[1])"
   ]
  }
 ],
 "metadata": {
  "kernelspec": {
   "display_name": "Python 3",
   "language": "python",
   "name": "python3"
  },
  "language_info": {
   "codemirror_mode": {
    "name": "ipython",
    "version": 3
   },
   "file_extension": ".py",
   "mimetype": "text/x-python",
   "name": "python",
   "nbconvert_exporter": "python",
   "pygments_lexer": "ipython3",
   "version": "3.8.5"
  },
  "varInspector": {
   "cols": {
    "lenName": 16,
    "lenType": 16,
    "lenVar": 40
   },
   "kernels_config": {
    "python": {
     "delete_cmd_postfix": "",
     "delete_cmd_prefix": "del ",
     "library": "var_list.py",
     "varRefreshCmd": "print(var_dic_list())"
    },
    "r": {
     "delete_cmd_postfix": ") ",
     "delete_cmd_prefix": "rm(",
     "library": "var_list.r",
     "varRefreshCmd": "cat(var_dic_list()) "
    }
   },
   "types_to_exclude": [
    "module",
    "function",
    "builtin_function_or_method",
    "instance",
    "_Feature"
   ],
   "window_display": false
  }
 },
 "nbformat": 4,
 "nbformat_minor": 4
}
