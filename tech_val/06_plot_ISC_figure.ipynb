{
 "cells": [
  {
   "cell_type": "markdown",
   "metadata": {},
   "source": [
    "# 06_plot_ISC_figure"
   ]
  },
  {
   "cell_type": "code",
   "execution_count": null,
   "metadata": {},
   "outputs": [],
   "source": [
    "import numpy as np\n",
    "from os.path import join as pjoin\n",
    "from os.path import isdir\n",
    "import os\n",
    "import matplotlib.pyplot as plt\n",
    "from matplotlib import cm, colors\n",
    "import mne_bids\n",
    "import mne\n",
    "from mne_bids import write_raw_bids, BIDSPath\n",
    "from scipy import stats\n",
    "import re\n",
    "from scipy import signal\n",
    "import pandas as pd\n",
    "from scipy import signal, fftpack"
   ]
  },
  {
   "cell_type": "markdown",
   "metadata": {},
   "source": [
    "## define functions"
   ]
  },
  {
   "cell_type": "code",
   "execution_count": null,
   "metadata": {},
   "outputs": [],
   "source": [
    "def plot_topomap(val):\n",
    "    \"\"\"\n",
    "    input params: val: [n_chn(272), 1]\n",
    "    \"\"\"\n",
    "    raw_sub = load_sub_raw_data(subject_idx='01', run_idx='01')\n",
    "    meg_layout = mne.channels.find_layout(raw_sub.info, ch_type='meg')\n",
    "    intercorr_chn = []\n",
    "    ch_name_picks = mne.pick_channels_regexp(raw_sub.ch_names, regexp='M[LRZ]...-4503')\n",
    "    type_picks = mne.pick_types(raw_sub.info, meg=True)\n",
    "    picks= np.intersect1d(ch_name_picks, type_picks)\n",
    "    for idx in picks:\n",
    "        intercorr_chn.append(raw_sub.ch_names[idx][:5])\n",
    "    exclude_list = [x for x in meg_layout.names if x not in intercorr_chn]\n",
    "    meg_layout = mne.channels.find_layout(raw_sub.info, ch_type='meg', exclude=exclude_list)\n",
    "\n",
    "    pos = meg_layout.pos[:,:2]\n",
    "    x_min = np.min(pos[:,0])\n",
    "    x_max = np.max(pos[:,0])\n",
    "    y_min = np.min(pos[:,1])\n",
    "    y_max = np.max(pos[:,1])\n",
    "    center_x = (x_min + x_max)/2\n",
    "    center_y = (y_min + y_max)/2\n",
    "    layout_pos = np.zeros(pos.shape)\n",
    "    for i, coor in enumerate(pos):\n",
    "        layout_pos[i,0] = coor[0] - center_x\n",
    "        layout_pos[i,1] = coor[1] - center_y\n",
    "        \n",
    "    plt.figure()\n",
    "    mne.viz.plot_topomap(val, layout_pos, cmap='viridis', sphere=np.array([0,0,0,0.5]))\n",
    "    norm = colors.Normalize(vmin=np.min(val), vmax=np.max(val))\n",
    "    plt.colorbar(cm.ScalarMappable(norm=norm, cmap='viridis'))"
   ]
  },
  {
   "cell_type": "markdown",
   "metadata": {},
   "source": [
    "## load data"
   ]
  },
  {
   "cell_type": "code",
   "execution_count": null,
   "metadata": {},
   "outputs": [],
   "source": [
    "corr_band_split = np.load(pjoin(save_pth, 'corr_band_split.npy'), allow_pickle=True)\n",
    "corr_band_split = corr_band_split.all()"
   ]
  },
  {
   "cell_type": "markdown",
   "metadata": {},
   "source": [
    "## plot ISC topomap"
   ]
  },
  {
   "cell_type": "code",
   "execution_count": null,
   "metadata": {},
   "outputs": [],
   "source": [
    "# run-average\n",
    "# eample: run-4_beta-band\n",
    "tmp_mean = np.mean(corr_band_split['beta'], axis=1)\n",
    "mean_run_corr = np.mean(tmp_mean, axis=1)\n",
    "run_idx = 4\n",
    "plot_topomap(mean_run_corr[run_idx-1])\n",
    "plt.title('Post pre-proc Beta band')"
   ]
  }
 ],
 "metadata": {
  "kernelspec": {
   "display_name": "Python 3",
   "language": "python",
   "name": "python3"
  },
  "language_info": {
   "codemirror_mode": {
    "name": "ipython",
    "version": 3
   },
   "file_extension": ".py",
   "mimetype": "text/x-python",
   "name": "python",
   "nbconvert_exporter": "python",
   "pygments_lexer": "ipython3",
   "version": "3.7.6"
  },
  "varInspector": {
   "cols": {
    "lenName": 16,
    "lenType": 16,
    "lenVar": 40
   },
   "kernels_config": {
    "python": {
     "delete_cmd_postfix": "",
     "delete_cmd_prefix": "del ",
     "library": "var_list.py",
     "varRefreshCmd": "print(var_dic_list())"
    },
    "r": {
     "delete_cmd_postfix": ") ",
     "delete_cmd_prefix": "rm(",
     "library": "var_list.r",
     "varRefreshCmd": "cat(var_dic_list()) "
    }
   },
   "types_to_exclude": [
    "module",
    "function",
    "builtin_function_or_method",
    "instance",
    "_Feature"
   ],
   "window_display": false
  }
 },
 "nbformat": 4,
 "nbformat_minor": 4
}
