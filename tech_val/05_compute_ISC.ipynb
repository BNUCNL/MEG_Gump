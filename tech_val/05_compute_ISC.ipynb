{
 "cells": [
  {
   "cell_type": "markdown",
   "metadata": {},
   "source": [
    "# 05_compute_ISC"
   ]
  },
  {
   "cell_type": "code",
   "execution_count": 1,
   "metadata": {},
   "outputs": [],
   "source": [
    "import numpy as np\n",
    "from os.path import join as pjoin\n",
    "from os.path import isdir\n",
    "import os\n",
    "import mne_bids\n",
    "import mne\n",
    "from mne_bids import write_raw_bids, BIDSPath\n",
    "from scipy import stats\n",
    "import re\n",
    "from scipy import signal\n",
    "import pandas as pd\n",
    "from scipy import signal, fftpack\n",
    "import pickle"
   ]
  },
  {
   "cell_type": "code",
   "execution_count": 2,
   "metadata": {},
   "outputs": [],
   "source": [
    "# define variables\n",
    "sub_list = ['{0:0>2d}'.format(sub) for sub in np.arange(1,12)]\n",
    "run_list = ['{0:0>2d}'.format(run) for run in np.arange(1,9)]\n",
    "band_names = ['delta', 'theta', 'alpha', 'beta', 'gamma']\n",
    "\n",
    "# set path\n",
    "pre_root = '/nfs/e5/studyforrest/forrest_movie_meg/gump_meg_bids'\n",
    "post_root = pjoin(pre_root, 'derivatives', 'preproc_meg-mne_mri-fmriprep')\n",
    "\n",
    "results_pth = '/nfs/e5/studyforrest/forrest_movie_meg/tech_val_results'\n",
    "if os.path.exists(results_pth) is False:\n",
    "    os.mkdir(results_pth)"
   ]
  },
  {
   "cell_type": "code",
   "execution_count": 3,
   "metadata": {},
   "outputs": [],
   "source": [
    "def extract_megdata(bids_root, sub, run):\n",
    "\n",
    "    sub_path = BIDSPath(subject=sub, run=run, task='movie', session='movie', root=bids_root)\n",
    "    raw = mne_bids.read_raw_bids(sub_path)\n",
    "    \n",
    "    return raw"
   ]
  },
  {
   "cell_type": "code",
   "execution_count": 4,
   "metadata": {},
   "outputs": [],
   "source": [
    "def extract_events(bids_root, sub, run):\n",
    "    \n",
    "    raw = extract_megdata(bids_root, sub, run)\n",
    "    events = mne.find_events(raw, stim_channel='UPPT001', min_duration=2/raw.info['sfreq'])\n",
    "    \n",
    "    return events"
   ]
  },
  {
   "cell_type": "code",
   "execution_count": 5,
   "metadata": {},
   "outputs": [],
   "source": [
    "def band_split(raw, band_name):\n",
    "    \"\"\"\n",
    "\n",
    "    \"\"\"\n",
    "    band_freq = {'delta': [1, 4],\n",
    "                 'theta': [4, 8],\n",
    "                 'alpha': [8, 13],\n",
    "                 'beta': [13, 30],\n",
    "                 'gamma': [30, 100]}\n",
    "    \n",
    "    raw_band = raw.copy().load_data().filter(l_freq=band_freq[band_name][0], h_freq=band_freq[band_name][1])\n",
    "\n",
    "    return raw_band"
   ]
  },
  {
   "cell_type": "code",
   "execution_count": 6,
   "metadata": {},
   "outputs": [],
   "source": [
    "def compute_isc(data1, data2):\n",
    "\n",
    "    \"\"\"calculate inter-subject correlation along the determined axis.\n",
    "\n",
    "    Parameters\n",
    "    ----------\n",
    "\n",
    "        data1, data2: array,\n",
    "            shape = [n_samples, n_features].\n",
    "\n",
    "    Returns\n",
    "    -------\n",
    "        isc: point-to-point functional connectivity list of\n",
    "            data1 and data2, shape = [n_samples].\n",
    "\n",
    "    \"\"\"\n",
    "\n",
    "    data1 = np.nan_to_num(data1)\n",
    "    data2 = np.nan_to_num(data2)\n",
    "\n",
    "    z_data1 = np.nan_to_num(stats.zscore(data1, axis=-1))\n",
    "    z_data2 = np.nan_to_num(stats.zscore(data2, axis=-1))\n",
    "    corr = np.sum(z_data1*z_data2, axis=-1)/(np.size(data1, -1))\n",
    "\n",
    "    return corr"
   ]
  },
  {
   "cell_type": "code",
   "execution_count": 7,
   "metadata": {},
   "outputs": [],
   "source": [
    "def compute_band_isc(data_sub1, data_sub2, events_sub1, events_sub2, band_name):\n",
    "    \"\"\"\n",
    "    \n",
    "    \"\"\"\n",
    "    \n",
    "    # get valid channels\n",
    "    def get_picks(data):\n",
    "        ch_name_picks = mne.pick_channels_regexp(data.ch_names, regexp='M[LRZ]...-4503')\n",
    "        type_picks = mne.pick_types(data.info, meg=True)\n",
    "        picks= np.intersect1d(ch_name_picks, type_picks)\n",
    "        return picks\n",
    "        \n",
    "    picks_sub1 = get_picks(data_sub1)\n",
    "    picks_sub2 = get_picks(data_sub2)\n",
    "\n",
    "    # match channels\n",
    "    picks = np.intersect1d(picks_sub1, picks_sub2)\n",
    "    \n",
    "    # mark bad channels\n",
    "    bad_idx = []\n",
    "    if len(picks) != len(picks_sub1):\n",
    "        bad_picks = np.union1d(np.setdiff1d(picks_sub1, picks_sub2), np.setdiff1d(picks_sub2, picks_sub1))\n",
    "        for chn in bad_picks:\n",
    "            bad_idx.append(np.where(picks == chn)[0][0])\n",
    "    \n",
    "    # band_split\n",
    "    band_sub1 = band_split(data_sub1, band_name=band_name)\n",
    "    band_sub2 = band_split(data_sub2, band_name=band_name)\n",
    "    band_sub1_data = band_sub1.get_data(picks=picks)\n",
    "    band_sub2_data = band_sub2.get_data(picks=picks)\n",
    "    \n",
    "    envlope_sub1 = np.abs(signal.hilbert(band_sub1_data))\n",
    "    envlope_sub2 = np.abs(signal.hilbert(band_sub2_data))\n",
    "    \n",
    "    if len(bad_idx) != 0:\n",
    "        for idx in bad_idx:\n",
    "            envlope_sub1[idx,:] = 0\n",
    "            envlope_sub2[idx,:] = 0\n",
    "    \n",
    "    # downsampling\n",
    "    sample_sub1 = events_sub1[1:-1:25,0]\n",
    "    sample_sub2 = events_sub2[1:-1:25,0]\n",
    "    band_dsamp_sub1 = envlope_sub1.take(sample_sub1, axis=1)\n",
    "    band_dsamp_sub2 = envlope_sub2.take(sample_sub2, axis=1)\n",
    "    \n",
    "    isc = compute_isc(band_dsamp_sub1, band_dsamp_sub2)\n",
    "    del data_sub1, data_sub2\n",
    "    \n",
    "    return isc"
   ]
  },
  {
   "cell_type": "code",
   "execution_count": 8,
   "metadata": {},
   "outputs": [],
   "source": [
    "def compute_bandISC(bids_root, sub_list, run_list, band_names, save_path=None):\n",
    "    \n",
    "    bandISC = {band_name : np.zeros((len(run_list), len(sub_list), len(sub_list), 272))\n",
    "               for band_name in band_names}\n",
    "    \n",
    "    for band_name in band_names:\n",
    "\n",
    "        for run in run_list:\n",
    "            if int(run) >= 7:\n",
    "                sub_ls = sub_list[1:]\n",
    "            else:\n",
    "                sub_ls = sub_list\n",
    "\n",
    "            # pair-wise ISC\n",
    "            for i, sub1 in enumerate(sub_ls):\n",
    "                megdata_sub1 = extract_megdata(bids_root, sub1, run)\n",
    "                events_sub1 = extract_events(bids_root, sub1, run)\n",
    "            \n",
    "                for sub2 in sub_ls[i+1:]:\n",
    "                    megdata_sub2 = extract_megdata(bids_root, sub2, run)\n",
    "                    events_sub2 = extract_events(bids_root, sub2, run)\n",
    "                    \n",
    "                    isc = compute_band_isc(megdata_sub1, megdata_sub2, events_sub1, events_sub2, band_name)\n",
    "\n",
    "                    bandISC[band_name][int(run)-1, int(sub1)-1, int(sub2)-1] = np.asarray(isc)\n",
    "                    \n",
    "                    # save \n",
    "                    if save_path is not None:\n",
    "                        with open(save_path, 'wb') as fp:\n",
    "                            pickle.dump(bandISC, fp)      \n",
    "\n",
    "    return bandISC"
   ]
  },
  {
   "cell_type": "code",
   "execution_count": null,
   "metadata": {},
   "outputs": [],
   "source": [
    "compute_bandISC(pre_root, sub_list, run_list, band_names, pjoin(results_pth, 'bandISC_pre.pickle'))\n",
    "compute_bandISC(post_root, sub_list, run_list, band_names, pjoin(results_pth, 'bandISC_post.pickle'))"
   ]
  },
  {
   "cell_type": "code",
   "execution_count": null,
   "metadata": {},
   "outputs": [],
   "source": []
  }
 ],
 "metadata": {
  "kernelspec": {
   "display_name": "Python 3",
   "language": "python",
   "name": "python3"
  },
  "language_info": {
   "codemirror_mode": {
    "name": "ipython",
    "version": 3
   },
   "file_extension": ".py",
   "mimetype": "text/x-python",
   "name": "python",
   "nbconvert_exporter": "python",
   "pygments_lexer": "ipython3",
   "version": "3.8.5"
  },
  "varInspector": {
   "cols": {
    "lenName": 16,
    "lenType": 16,
    "lenVar": 40
   },
   "kernels_config": {
    "python": {
     "delete_cmd_postfix": "",
     "delete_cmd_prefix": "del ",
     "library": "var_list.py",
     "varRefreshCmd": "print(var_dic_list())"
    },
    "r": {
     "delete_cmd_postfix": ") ",
     "delete_cmd_prefix": "rm(",
     "library": "var_list.r",
     "varRefreshCmd": "cat(var_dic_list()) "
    }
   },
   "types_to_exclude": [
    "module",
    "function",
    "builtin_function_or_method",
    "instance",
    "_Feature"
   ],
   "window_display": false
  }
 },
 "nbformat": 4,
 "nbformat_minor": 4
}
