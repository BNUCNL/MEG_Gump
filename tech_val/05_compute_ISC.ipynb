{
 "cells": [
  {
   "cell_type": "markdown",
   "metadata": {},
   "source": [
    "# 05_compute_ISC"
   ]
  },
  {
   "cell_type": "code",
   "execution_count": null,
   "metadata": {},
   "outputs": [],
   "source": [
    "import numpy as np\n",
    "from os.path import join as pjoin\n",
    "from os.path import isdir\n",
    "import os\n",
    "import matplotlib.pyplot as plt\n",
    "from matplotlib import cm, colors\n",
    "import mne_bids\n",
    "import mne\n",
    "from mne_bids import write_raw_bids, BIDSPath\n",
    "from scipy import stats\n",
    "import re\n",
    "from scipy import signal\n",
    "import pandas as pd\n",
    "from scipy import signal, fftpack"
   ]
  },
  {
   "cell_type": "code",
   "execution_count": null,
   "metadata": {},
   "outputs": [],
   "source": [
    "def load_sub_raw_data(bids_root, subject_idx, run_idx):\n",
    "    \"\"\"\n",
    "    load raw meg data. \n",
    "    \"\"\"\n",
    "    \n",
    "    if not isinstance(subject_idx, str):\n",
    "        raise ValueError('subject_dix must be str')\n",
    "        \n",
    "    if not isinstance(run_idx, str):\n",
    "        raise ValueError('run_idx must be str')\n",
    "    \n",
    "    subject_data_folder = pjoin(bids_root, 'sub-{}'.format(subject_idx), 'ses-movie', 'meg')\n",
    "    fname = 'sub-' + subject_idx + '_ses-movie_task-movie_run-' + run_idx + '_meg.ds'\n",
    "    raw_data_path = pjoin(subject_data_folder, fname)\n",
    "    raw_data = mne.io.read_raw_ctf(raw_data_path, preload='True')\n",
    "    \n",
    "    print('total channels number is {}'.format(len(raw_data.info['chs'])))\n",
    "    print('sample frequency is {} Hz'.format(raw_data.info['sfreq']))\n",
    "\n",
    "    return raw_data"
   ]
  },
  {
   "cell_type": "code",
   "execution_count": 4,
   "metadata": {},
   "outputs": [],
   "source": [
    "def band_split(raw, band_name):\n",
    "    \"\"\"\n",
    "\n",
    "    \"\"\"\n",
    "    band_freq = {'delta': [1, 4],\n",
    "                 'theta': [4, 8],\n",
    "                 'alpha': [8, 13],\n",
    "                 'beta': [13, 30],\n",
    "                 'gamma': [30, 100]}\n",
    "    \n",
    "    raw_band = raw.copy().load_data().filter(l_freq=band_freq[band_name][0], h_freq=band_freq[band_name][1])\n",
    "\n",
    "    return raw_band"
   ]
  },
  {
   "cell_type": "code",
   "execution_count": 7,
   "metadata": {},
   "outputs": [],
   "source": [
    "def extract_events(bids_root, sub_idx, run_idx):\n",
    "    \"\"\"\n",
    "    \n",
    "    \"\"\"\n",
    "    sub_path = BIDSPath(subject=sub_idx, run=int(run_idx), task='movie', session='movie', processing='preproc', root=bids_root)\n",
    "    sub_raw = mne_bids.read_raw_bids(sub_path)\n",
    "    events_sub = mne.events_from_annotations(sub_raw)\n",
    "    \n",
    "    return events_sub"
   ]
  },
  {
   "cell_type": "code",
   "execution_count": null,
   "metadata": {},
   "outputs": [],
   "source": [
    "def compute_band_isc(data_sub1, data_sub2, events_sub1, events_sub2, band_name):\n",
    "    \"\"\"\n",
    "    \n",
    "    \"\"\"\n",
    "    \n",
    "    # get valid channels\n",
    "    def get_picks(data):\n",
    "        ch_name_picks = mne.pick_channels_regexp(data.ch_names, regexp='M[LRZ]...-4503')\n",
    "        type_picks = mne.pick_types(data.info, meg=True)\n",
    "        picks= np.intersect1d(ch_name_picks, type_picks)\n",
    "        return picks\n",
    "        \n",
    "    picks_sub1 = get_picks(data_sub1)\n",
    "    picks_sub2 = get_picks(data_sub2)\n",
    "\n",
    "    # match channels\n",
    "    picks = np.intersect1d(sub1_picks, sub2_picks)\n",
    "    \n",
    "    # mark bad channels\n",
    "    bad_idx = []\n",
    "    if len(picks) != len(picks_sub1):\n",
    "        bad_picks = np.union1d(np.setdiff1d(picks_sub1, picks_sub2), np.setdiff1d(picks_sub2, picks_sub1))\n",
    "        for chn in bad_picks:\n",
    "            bad_idx.append(np.where(picks == chn)[0][0])\n",
    "    \n",
    "    # band_split\n",
    "    band_sub1 = band_split(data_sub1, band_name=band_name)\n",
    "    band_sub2 = band_split(data_sub2, band_name=band_name)\n",
    "    band_sub1_data = band_sub1.get_data(picks=picks)\n",
    "    band_sub2_data = band_sub2.get_data(picks=picks)\n",
    "    \n",
    "    envlope_sub1 = np.abs(signal.hilbert(band_sub1_data))\n",
    "    envlope_sub2 = np.abs(signal.hilbert(band_sub2_data))\n",
    "    \n",
    "    if len(bad_idx) != 0:\n",
    "        for idx in bad_idx:\n",
    "            envlope_sub1[idx,:] = 0\n",
    "            envlope_sub2[idx,:] = 0\n",
    "    \n",
    "    # downsampling\n",
    "    sample_sub1 = events_sub1[0][1:-1:25,0]\n",
    "    sample_sub2 = events_sub2[0][1:-1:25,0]\n",
    "    band_dsamp_sub1 = envlope_sub1.take(sample_sub1, axis=1)\n",
    "    band_dsamp_sub2 = envlope_sub2.take(sample_sub2, axis=1)\n",
    "    \n",
    "    ch_r = []\n",
    "    ch_p = []\n",
    "    for ch_idx in np.arange(band_dsamp_sub1.shape[0]):\n",
    "        r, p = stats.pearsonr(band_dsamp_sub1[ch_idx, :], band_dsamp_sub2[ch_idx, :])\n",
    "        ch_r.append(r)\n",
    "        ch_p.append(p)\n",
    "    \n",
    "    del data_sub1, data_sub2\n",
    "    \n",
    "    return ch_r, ch_p"
   ]
  },
  {
   "cell_type": "markdown",
   "metadata": {},
   "source": [
    "## define variables"
   ]
  },
  {
   "cell_type": "code",
   "execution_count": null,
   "metadata": {},
   "outputs": [],
   "source": [
    "bids_root = '/nfs/e5/studyforrest/forrest_movie_meg/preproc_data'\n",
    "sub_list = np.arange(1,12)\n",
    "run_list = np.arange(1,9)\n",
    "save_pth = '/nfs/s2/userhome/daiyuxuan/workingdir/MEG-paper/output_data'\n",
    "band_names = ['delta', 'theta', 'alpha', 'beta', 'gamma']"
   ]
  },
  {
   "cell_type": "markdown",
   "metadata": {},
   "source": [
    "## compute pre-post preproc ISC"
   ]
  },
  {
   "cell_type": "code",
   "execution_count": null,
   "metadata": {},
   "outputs": [],
   "source": [
    "# pre pre-proc\n",
    "pre_corr_band_split = {}\n",
    "for band_name in band_names:\n",
    "    \n",
    "    pre_corr_band_split[band_name] = np.zeros((len(run_list), len(sub_list), len(sub_list), 272))\n",
    "            \n",
    "    for run in run_list:\n",
    "        if run >= 7:\n",
    "            sub_ls = np.arange(2,12)\n",
    "        else:\n",
    "            sub_ls = sub_list\n",
    "            \n",
    "        for sub1 in sub_ls:\n",
    "            if sub1 < 10:\n",
    "                sub1_idx = '0' + str(sub1)\n",
    "            else:\n",
    "                sub1_idx = str(sub1)\n",
    "                \n",
    "            run_idx = '0'+str(run)\n",
    "            events_sub1 = extract_events(sub1_idx, run_idx)\n",
    "            raw_sub1 = load_sub_raw_data(subject_idx=sub1_idx, run_idx=run_idx)\n",
    "\n",
    "            for sub2 in sub_list:\n",
    "                if sub2 < 10:\n",
    "                        sub2_idx = '0' + str(sub2)\n",
    "                else:\n",
    "                        sub2_idx = str(sub2)\n",
    "                \n",
    "                events_sub2 = extract_events(sub2_idx, run_idx)\n",
    "                raw_sub2 = load_sub_raw_data(subject_idx=sub2_idx, run_idx=run_idx)\n",
    "                ch_r, ch_p = compute_band_isc(raw_sub1, raw_sub2, events_sub1, events_sub2, band_name)\n",
    "                pre_corr_band_split[band_name][run-1][sub1-1][sub2-1] = pre_corr_band_split[band_name][run-1][sub2-1][sub1-1] = np.array(ch_r)\n",
    "np.save(pjoin(save_pth, 'pre_corr_band_split'), pre_corr_band_split)\n",
    "\n",
    "# post pre-proc\n",
    "corr_band_split = {}\n",
    "for band_name in band_names:\n",
    "    \n",
    "    corr_band_split[band_name] = np.zeros((len(run_list), len(sub_list), len(sub_list), 272))\n",
    "    \n",
    "    for run in run_list:\n",
    "        if run >= 7:\n",
    "            sub_ls = np.arange(2, 12)\n",
    "        else:\n",
    "            sub_ls = sub_list\n",
    "        \n",
    "        for sub1 in sub_ls:\n",
    "            if sub1 < 10:\n",
    "                sub1_idx = '0' + str(sub1)\n",
    "            else:\n",
    "                sub1_idx = str(sub1)\n",
    "            \n",
    "            sub1_path = BIDSPath(subject=sub1_idx, run=int(run), task='movie', session='movie', processing='preproc', root=bids_root)\n",
    "            raw_sub1 = mne_bids.read_raw_bids(sub1_path)\n",
    "            events_sub1 = mne.events_from_annotations(raw_sub1)\n",
    "            \n",
    "            for sub2 in np.arange(sub1+1, 12):\n",
    "                \n",
    "                if sub2 < 10:\n",
    "                    sub2_idx = '0' + str(sub2)\n",
    "                else:\n",
    "                    sub2_idx = str(sub2)\n",
    "                \n",
    "                sub2_path = BIDSPath(subject=sub2_idx, run=int(run), task='movie', session='movie', processing='preproc', root=bids_root)\n",
    "                raw_sub2 = mne_bids.read_raw_bids(sub2_path)\n",
    "                events_sub2 = mne.events_from_annotations(raw_sub2)\n",
    "                ch_r, ch_p = compute_band_isc(raw_sub1, raw_sub2, events_sub1, events_sub2, band_name)\n",
    "                corr_band_split[band_name][run-1][sub1-1][sub2-1] = corr_band_split[band_name][run-1][sub2-1][sub1-1] = np.array(ch_r)\n",
    "np.save(pjoin(save_pth, 'corr_band_split'), corr_band_split)\n"
   ]
  }
 ],
 "metadata": {
  "kernelspec": {
   "display_name": "Python 3",
   "language": "python",
   "name": "python3"
  },
  "language_info": {
   "codemirror_mode": {
    "name": "ipython",
    "version": 3
   },
   "file_extension": ".py",
   "mimetype": "text/x-python",
   "name": "python",
   "nbconvert_exporter": "python",
   "pygments_lexer": "ipython3",
   "version": "3.8.5"
  },
  "varInspector": {
   "cols": {
    "lenName": 16,
    "lenType": 16,
    "lenVar": 40
   },
   "kernels_config": {
    "python": {
     "delete_cmd_postfix": "",
     "delete_cmd_prefix": "del ",
     "library": "var_list.py",
     "varRefreshCmd": "print(var_dic_list())"
    },
    "r": {
     "delete_cmd_postfix": ") ",
     "delete_cmd_prefix": "rm(",
     "library": "var_list.r",
     "varRefreshCmd": "cat(var_dic_list()) "
    }
   },
   "types_to_exclude": [
    "module",
    "function",
    "builtin_function_or_method",
    "instance",
    "_Feature"
   ],
   "window_display": false
  }
 },
 "nbformat": 4,
 "nbformat_minor": 4
}
