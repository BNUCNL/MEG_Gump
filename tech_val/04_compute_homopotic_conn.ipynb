{
 "cells": [
  {
   "cell_type": "markdown",
   "metadata": {},
   "source": [
    "# 04_compute_homopotic_conn"
   ]
  },
  {
   "cell_type": "code",
   "execution_count": 1,
   "metadata": {},
   "outputs": [],
   "source": [
    "import numpy as np\n",
    "from os.path import join as pjoin\n",
    "from os.path import isdir\n",
    "import os\n",
    "import matplotlib.pyplot as plt\n",
    "from matplotlib import cm, colors\n",
    "import mne_bids\n",
    "import mne\n",
    "from mne_bids import write_raw_bids, BIDSPath\n",
    "from scipy import stats\n",
    "import re\n",
    "from scipy import signal\n",
    "import pandas as pd\n",
    "from scipy import signal, fftpack\n",
    "from scipy.spatial.distance import cdist"
   ]
  },
  {
   "cell_type": "code",
   "execution_count": 2,
   "metadata": {},
   "outputs": [],
   "source": [
    "# define variables\n",
    "sub_list = ['{0:0>2d}'.format(sub) for sub in np.arange(1,12)]\n",
    "run_list = ['{0:0>2d}'.format(run) for run in np.arange(1,9)]\n",
    "\n",
    "# set path\n",
    "pre_root = '/nfs/e5/studyforrest/forrest_movie_meg/gump_meg_bids'\n",
    "post_root = pjoin(pre_root, 'derivatives', 'preproc_meg-mne_mri-fmriprep')\n",
    "\n",
    "results_pth = '/nfs/e5/studyforrest/forrest_movie_meg/tech_val_results'\n",
    "if os.path.exists(results_pth) is False:\n",
    "    os.mkdir(results_pth)"
   ]
  },
  {
   "cell_type": "code",
   "execution_count": 3,
   "metadata": {},
   "outputs": [],
   "source": [
    "def extract_megdata(bids_root, sub, run):\n",
    "\n",
    "    sub_path = BIDSPath(subject=sub, run=run, task='movie', session='movie', root=bids_root)\n",
    "    raw = mne_bids.read_raw_bids(sub_path)\n",
    "    \n",
    "    return raw"
   ]
  },
  {
   "cell_type": "code",
   "execution_count": 4,
   "metadata": {},
   "outputs": [],
   "source": [
    "def extract_events(bids_root, sub, run):\n",
    "    \n",
    "    raw = extract_megdata(bids_root, sub, run)\n",
    "    events = mne.find_events(raw, stim_channel='UPPT001', min_duration=2/raw.info['sfreq'])\n",
    "    \n",
    "    return events"
   ]
  },
  {
   "cell_type": "code",
   "execution_count": 5,
   "metadata": {},
   "outputs": [],
   "source": [
    "def get_picks(data):\n",
    "    # get valid channels\n",
    "    ch_name_picks = mne.pick_channels_regexp(data.ch_names, regexp='M[LRZ]...-4503')\n",
    "    type_picks = mne.pick_types(data.info, meg=True)\n",
    "    picks= np.intersect1d(ch_name_picks, type_picks)\n",
    "    return picks"
   ]
  },
  {
   "cell_type": "code",
   "execution_count": 6,
   "metadata": {},
   "outputs": [],
   "source": [
    "def compute_isfc(data1, data2=None):\n",
    "\n",
    "    \"\"\"calculate inter-subject correlation along the determined axis.\n",
    "\n",
    "    Parameters\n",
    "    ----------\n",
    "        data1: used to calculate functional connectivity,\n",
    "            shape = [n_samples1, n_features].\n",
    "        data2: used to calculate functional connectivity,\n",
    "            shape = [n_samples2, n_features].\n",
    "\n",
    "    Returns\n",
    "    -------\n",
    "        isfc: functional connectivity map of data1 and data2,\n",
    "            shape = [n_samples1, n_samples2].\n",
    "\n",
    "    \"\"\"\n",
    "    if data2 is None:\n",
    "        data2 = data1\n",
    "        \n",
    "    data1 = np.nan_to_num(data1)\n",
    "    data2 = np.nan_to_num(data2)\n",
    "    \n",
    "    corr = np.nan_to_num(1 - cdist(data1, data2, metric='correlation'))\n",
    "    return corr"
   ]
  },
  {
   "cell_type": "code",
   "execution_count": 7,
   "metadata": {},
   "outputs": [],
   "source": [
    "def compute_hc(data_sub, events_sub, picks_ref):\n",
    "    \"\"\"\n",
    "    \n",
    "    \"\"\"  \n",
    "    picks_sub = get_picks(data_sub)\n",
    "\n",
    "    # match channels\n",
    "    picks = np.intersect1d(picks_sub, picks_ref)\n",
    "    \n",
    "    # mark bad channels\n",
    "    bad_idx = []\n",
    "    if len(picks) != len(picks_ref):\n",
    "        bad_picks = np.union1d(np.setdiff1d(picks_sub, picks_ref), np.setdiff1d(picks_ref, picks_sub))\n",
    "        for chn in bad_picks:\n",
    "            bad_idx.append(np.where(picks == chn)[0][0])\n",
    "    \n",
    "    meg_data = data_sub.get_data(picks=picks)  \n",
    "    \n",
    "    # hilbert xfm\n",
    "    envlope = np.abs(signal.hilbert(meg_data))\n",
    "    \n",
    "    if len(bad_idx) != 0:\n",
    "        for idx in bad_idx:\n",
    "            envlope[idx,:] = 0\n",
    "    \n",
    "    # downsampling\n",
    "    envlope_dsamp = envlope.take(events_sub[1:-1:25,0], axis=1)\n",
    "    \n",
    "    hc = compute_isfc(envlope_dsamp)\n",
    "    del data_sub\n",
    "    \n",
    "    return hc"
   ]
  },
  {
   "cell_type": "code",
   "execution_count": null,
   "metadata": {},
   "outputs": [],
   "source": [
    "# compute and save homopotic and heterotopic conn for raw data\n",
    "\n",
    "# get ref picks\n",
    "data_ref = extract_megdata(pre_root, '01', '01')\n",
    "picks_ref = get_picks(data_ref)\n",
    "\n",
    "hc_post = {}\n",
    "for sub in sub_list:\n",
    "    hc_post[sub] = []\n",
    "    if sub == '01':\n",
    "        run_ls = run_list + ['09']\n",
    "    else:\n",
    "        run_ls = run_list\n",
    "    \n",
    "    for run in run_ls:      \n",
    "        megdata = extract_megdata(post_root, sub, run)\n",
    "        events = extract_events(post_root, sub, run)\n",
    "        hc_post[sub].append(compute_hc(megdata, events, picks_ref))\n",
    "\n",
    "# save\n",
    "for sub in list(hc_post.keys())[1:]:\n",
    "    hc_post[sub].append(np.nan)\n",
    "df = pd.DataFrame(hc_post, columns=sub_list, index=run_list+['09'])\n",
    "df.to_pickle(pjoin(results_pth, 'hc_post.pickle'))"
   ]
  },
  {
   "cell_type": "code",
   "execution_count": null,
   "metadata": {},
   "outputs": [],
   "source": []
  },
  {
   "cell_type": "code",
   "execution_count": 10,
   "metadata": {},
   "outputs": [],
   "source": []
  }
 ],
 "metadata": {
  "kernelspec": {
   "display_name": "Python 3",
   "language": "python",
   "name": "python3"
  },
  "language_info": {
   "codemirror_mode": {
    "name": "ipython",
    "version": 3
   },
   "file_extension": ".py",
   "mimetype": "text/x-python",
   "name": "python",
   "nbconvert_exporter": "python",
   "pygments_lexer": "ipython3",
   "version": "3.8.5"
  },
  "varInspector": {
   "cols": {
    "lenName": 16,
    "lenType": 16,
    "lenVar": 40
   },
   "kernels_config": {
    "python": {
     "delete_cmd_postfix": "",
     "delete_cmd_prefix": "del ",
     "library": "var_list.py",
     "varRefreshCmd": "print(var_dic_list())"
    },
    "r": {
     "delete_cmd_postfix": ") ",
     "delete_cmd_prefix": "rm(",
     "library": "var_list.r",
     "varRefreshCmd": "cat(var_dic_list()) "
    }
   },
   "types_to_exclude": [
    "module",
    "function",
    "builtin_function_or_method",
    "instance",
    "_Feature"
   ],
   "window_display": false
  }
 },
 "nbformat": 4,
 "nbformat_minor": 4
}
