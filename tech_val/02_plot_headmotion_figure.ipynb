{
 "cells": [
  {
   "cell_type": "markdown",
   "metadata": {},
   "source": [
    "# 02_plot_headmotion_figure"
   ]
  },
  {
   "cell_type": "code",
   "execution_count": 1,
   "metadata": {},
   "outputs": [],
   "source": [
    "import numpy as np\n",
    "from os.path import join as pjoin\n",
    "from os.path import isdir\n",
    "import os\n",
    "import matplotlib.pyplot as plt\n",
    "from matplotlib import cm, colors\n",
    "import mne_bids\n",
    "import mne\n",
    "from mne_bids import write_raw_bids, BIDSPath\n",
    "from scipy import stats\n",
    "import re\n",
    "from scipy import signal\n",
    "import pandas as pd\n",
    "from scipy import signal, fftpack"
   ]
  },
  {
   "cell_type": "code",
   "execution_count": 2,
   "metadata": {},
   "outputs": [],
   "source": [
    "########################################################\n",
    "# what is the difference between this and the last cell? \n",
    "########################################################\n",
    "\n",
    "def plot_sub_hmv_hist(hpi, fig_info, save_pth=None):\n",
    "    \"\"\"\n",
    "    use hpi data to plot histgram of head movement\n",
    "    \n",
    "    Parameters\n",
    "    ----------\n",
    "        hpi: list of hpi channels data, include channel name and data\n",
    "        fig_info: [sub_idx, run_idx]\n",
    "        save_pth: str\n",
    "    \"\"\"\n",
    "    \n",
    "    coord = ['nasion', 'lpa', 'rpa']\n",
    "    color = ['lightskyblue', 'lightgreen', 'pink']\n",
    "    hpi_de = []\n",
    "    for chn, val in hpi:\n",
    "        hpi_de.append((chn, 1000*(val-val[0])))\n",
    "\n",
    "    fig, axes = plt.subplots(1,3,figsize=(16,5))\n",
    "    fig.suptitle('Head Movement')\n",
    "    for j in np.arange(3):\n",
    "        mv = [np.sqrt(hpi_de[j*4][1][n]**2 + hpi_de[j*4+1][1][n]**2 + hpi_de[j*4+2][1][n]**2) for n in np.arange(len(hpi_de[j-1][1]))]\n",
    "        x, bins, p = axes[j].hist(mv, alpha=0.4, density=True, bins=20, label=coord[j], color=color[j])\n",
    "        height = []\n",
    "        for item in p:\n",
    "            height.append(item.get_height()/sum(x))\n",
    "            item.set_height(item.get_height()/sum(x))\n",
    "        axes[j].set_ylim(top=np.ceil(max(height)*10)/10)\n",
    "        axes[j].legend()\n",
    "        axes[j].set_xlabel('mm')\n",
    "        axes[j].set_ylabel('normalized histgram')\n",
    "        \n",
    "    if save_pth is not None:\n",
    "        plt.savefig(pjoin(save_pth, f'sub-{fig_info[0]}_run-{fig_info[1]}_deriv.jpeg'),dpi=600)\n",
    "        plt.close()"
   ]
  },
  {
   "cell_type": "code",
   "execution_count": 3,
   "metadata": {},
   "outputs": [],
   "source": [
    "# define variables\n",
    "sub_list = ['{0:0>2d}'.format(sub) for sub in np.arange(1,12)]\n",
    "run_list = ['{0:0>2d}'.format(run) for run in np.arange(1,9)]\n",
    "coord = ['nasion', 'lpa', 'rpa']\n",
    "\n",
    "# set path\n",
    "bids_root = '/nfs/e5/studyforrest/forrest_movie_meg/meg_preproc_data_bak/'\n",
    "results_pth = pjoin(os.getcwd(),'tech_val_results')\n",
    "fig_save_pth = pjoin(os.getcwd(),'tech_val_results', 'head_mv_fig')\n",
    "\n",
    "if os.path.exists(fig_save_pth) is False: os.mkdir(fig_save_pth)"
   ]
  },
  {
   "cell_type": "code",
   "execution_count": 4,
   "metadata": {},
   "outputs": [],
   "source": [
    "# load data\n",
    "hpi_data = pd.read_pickle(pjoin(results_pth, 'hpi_data.pickle'))"
   ]
  },
  {
   "cell_type": "code",
   "execution_count": null,
   "metadata": {},
   "outputs": [],
   "source": [
    "# plot figure\n",
    "head_mv = []\n",
    "coord = ['nasion', 'lpa', 'rpa']\n",
    "for j, coil in enumerate(coord):\n",
    "    coil_mv = np.array([])\n",
    "    for sub in sub_list:\n",
    "        for run in run_list:\n",
    "            hpi = hpi_data[sub][run]\n",
    "            hpi_de = []\n",
    "            for i, (chn, val) in enumerate(hpi):\n",
    "                hpi_de.append((chn, 1000*(val-val[0])))\n",
    "            mv = [np.sqrt(hpi_de[j*4][1][n]**2 + hpi_de[j*4+1][1][n]**2 + hpi_de[j*4+2][1][n]**2) for n in np.arange(len(hpi_de[j-1][1]))]\n",
    "            if np.where(np.array(mv)>10)[0].size > 0:\n",
    "                print(f'lager head movement: sub-{sub} run-{run} coil:{coil}')\n",
    "            coil_mv = np.append(coil_mv, np.array(mv))\n",
    "    head_mv.append((coil, coil_mv))\n",
    "\n",
    "color = ['lightskyblue', 'lightgreen', 'pink']\n",
    "fig, axes = plt.subplots(1,3,figsize=(16,5))\n",
    "fig.suptitle('Head Movement')\n",
    "for j in np.arange(3):\n",
    "    x, bins, p = axes[j].hist(mv, alpha=0.4, density=True, bins=50, label=coord[j], color=color[j])\n",
    "    height = []\n",
    "    for item in p:\n",
    "        height.append(item.get_height()/sum(x))\n",
    "        item.set_height(item.get_height()/sum(x))\n",
    "    axes[j].set_ylim(top=np.ceil(max(height)*10)/10)\n",
    "    axes[j].legend()\n",
    "    axes[j].set_xlabel('mm')\n",
    "    axes[j].set_ylabel('normalized histgram')\n",
    "\n",
    "# save fig\n",
    "plt.savefig(pjoin(save_pth, f'sub-total_run-total_deriv.jpeg'),dpi=600)"
   ]
  }
 ],
 "metadata": {
  "kernelspec": {
   "display_name": "Python 3",
   "language": "python",
   "name": "python3"
  },
  "language_info": {
   "codemirror_mode": {
    "name": "ipython",
    "version": 3
   },
   "file_extension": ".py",
   "mimetype": "text/x-python",
   "name": "python",
   "nbconvert_exporter": "python",
   "pygments_lexer": "ipython3",
   "version": "3.8.5"
  },
  "varInspector": {
   "cols": {
    "lenName": 16,
    "lenType": 16,
    "lenVar": 40
   },
   "kernels_config": {
    "python": {
     "delete_cmd_postfix": "",
     "delete_cmd_prefix": "del ",
     "library": "var_list.py",
     "varRefreshCmd": "print(var_dic_list())"
    },
    "r": {
     "delete_cmd_postfix": ") ",
     "delete_cmd_prefix": "rm(",
     "library": "var_list.r",
     "varRefreshCmd": "cat(var_dic_list()) "
    }
   },
   "types_to_exclude": [
    "module",
    "function",
    "builtin_function_or_method",
    "instance",
    "_Feature"
   ],
   "window_display": false
  }
 },
 "nbformat": 4,
 "nbformat_minor": 4
}
