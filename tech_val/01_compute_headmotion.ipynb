{
 "cells": [
  {
   "cell_type": "markdown",
   "metadata": {},
   "source": [
    "# 01_compute_headmotion"
   ]
  },
  {
   "cell_type": "markdown",
   "metadata": {},
   "source": [
    "Compute head movement and output the data for visualization"
   ]
  },
  {
   "cell_type": "code",
   "execution_count": null,
   "metadata": {},
   "outputs": [],
   "source": [
    "import numpy as np\n",
    "from os.path import join as pjoin\n",
    "from os.path import isdir\n",
    "import os\n",
    "import matplotlib.pyplot as plt\n",
    "from matplotlib import cm, colors\n",
    "import mne_bids\n",
    "import mne\n",
    "from mne_bids import write_raw_bids, BIDSPath\n",
    "from scipy import stats\n",
    "import re\n",
    "from scipy import signal\n",
    "import pandas as pd\n",
    "from scipy import signal, fftpack"
   ]
  },
  {
   "cell_type": "markdown",
   "metadata": {},
   "source": [
    "## define functions"
   ]
  },
  {
   "cell_type": "code",
   "execution_count": null,
   "metadata": {},
   "outputs": [],
   "source": [
    "#Loading data\n",
    "def load_sub_raw_data(data_folder='/nfs/e5/studyforrest/forrest_movie_meg/', subject_idx='01', run_idx='01'):\n",
    "    \"\"\"\n",
    "    load raw meg data. \n",
    "    \n",
    "    input value: subject_idx and run_idx should be str\n",
    "    \"\"\"\n",
    "    \n",
    "    if not isinstance(subject_idx, str):\n",
    "        raise ValueError('subject_dix must be str')\n",
    "        \n",
    "    if not isinstance(run_idx, str):\n",
    "        raise ValueError('run_idx must be str')\n",
    "    \n",
    "    subject_data_folder = data_folder + 'sub-' + subject_idx + '/ses-movie/meg'\n",
    "    fname = 'sub-' + subject_idx + '_ses-movie_task-movie_run-' + run_idx + '_meg.ds'\n",
    "    raw_data_path = pjoin(subject_data_folder, fname)\n",
    "    raw_data = mne.io.read_raw_ctf(raw_data_path, preload='True')\n",
    "    \n",
    "    print('total channels number is {}'.format(len(raw_data.info['chs'])))\n",
    "    print('sample frequency is {} Hz'.format(raw_data.info['sfreq']))\n",
    "\n",
    "    return raw_data\n",
    "\n",
    "def extract_hpi(raw_data):\n",
    "    '''\n",
    "    Extract hpi data from mne raw object.\n",
    "    Return: hpi_data:[(channel_name1, value1),...] \n",
    "    '''\n",
    "    picks = mne.pick_channels_regexp(raw_data.ch_names, regexp='HLC00[123][1238]...')\n",
    "    hpi_data = raw_data.get_data(picks=picks)\n",
    "    \n",
    "    hlc_ch = []\n",
    "    for i in np.arange(12):\n",
    "        hlc_ch.append(raw_data.ch_names[picks[i]])\n",
    "    hpi = {}\n",
    "    for i in np.arange(12):\n",
    "        hpi[hlc_ch[i]] = hpi_data[i]\n",
    "    hpi = sorted(hpi.items(), key=lambda d: d[0], reverse=False)\n",
    "    \n",
    "    return hpi\n"
   ]
  },
  {
   "cell_type": "markdown",
   "metadata": {},
   "source": [
    "## define variables"
   ]
  },
  {
   "cell_type": "code",
   "execution_count": null,
   "metadata": {},
   "outputs": [],
   "source": [
    "sub_list = ['{0:0>2d}'.format(sub) for sub in np.arange(1,12)]\n",
    "run_list = ['{0:0>2d}'.format(run) for run in np.arange(1,9)]\n",
    "coord = ['nasion', 'lpa', 'rpa']\n",
    "# change path\n",
    "data_pth = '/nfs/s2/userhome/daiyuxuan/workingdir/MEG-paper/output_data'\n",
    "bids_root = '/nfs/e2/workingshop/daiyuxuan/MEG-paper/preproc_data'\n",
    "fig_save_pth = '/nfs/s2/userhome/daiyuxuan/workingdir/MEG-paper/head_mv_fig'"
   ]
  },
  {
   "cell_type": "markdown",
   "metadata": {},
   "source": [
    "## compute data"
   ]
  },
  {
   "cell_type": "code",
   "execution_count": null,
   "metadata": {},
   "outputs": [],
   "source": [
    "# extract data\n",
    "hpi_dict = {}\n",
    "for sub in sub_list:\n",
    "    hpi_dict[sub] = []\n",
    "    if sub == '01':\n",
    "        run_ls = run_list + ['09']\n",
    "    else:\n",
    "        run_ls = run_list\n",
    "    for run in run_ls:\n",
    "        sub_path = BIDSPath(subject=sub, run=int(run), task='movie', session='movie', processing='preproc', root=bids_root)\n",
    "        raw = mne_bids.read_raw_bids(sub_path)\n",
    "        raw_data = raw.copy().crop(tmin=raw.annotations.onset[0], tmax=raw.annotations.onset[-1])\n",
    "        hpi = extract_hpi(raw_data)\n",
    "        hpi_dict[sub].append(hpi)\n",
    "\n",
    "# save hpi data\n",
    "for sub in sub_list[1:]:\n",
    "    hpi_dict[sub].append(np.nan)\n",
    "df = pd.DataFrame(hpi_dict, columns=sub_list, index=run_list+['09'])\n",
    "df.to_pickle(pjoin(data_pth, 'hpi_data.pickle'))"
   ]
  }
 ],
 "metadata": {
  "kernelspec": {
   "display_name": "Python 3",
   "language": "python",
   "name": "python3"
  },
  "language_info": {
   "codemirror_mode": {
    "name": "ipython",
    "version": 3
   },
   "file_extension": ".py",
   "mimetype": "text/x-python",
   "name": "python",
   "nbconvert_exporter": "python",
   "pygments_lexer": "ipython3",
   "version": "3.7.6"
  },
  "varInspector": {
   "cols": {
    "lenName": 16,
    "lenType": 16,
    "lenVar": 40
   },
   "kernels_config": {
    "python": {
     "delete_cmd_postfix": "",
     "delete_cmd_prefix": "del ",
     "library": "var_list.py",
     "varRefreshCmd": "print(var_dic_list())"
    },
    "r": {
     "delete_cmd_postfix": ") ",
     "delete_cmd_prefix": "rm(",
     "library": "var_list.r",
     "varRefreshCmd": "cat(var_dic_list()) "
    }
   },
   "types_to_exclude": [
    "module",
    "function",
    "builtin_function_or_method",
    "instance",
    "_Feature"
   ],
   "window_display": false
  }
 },
 "nbformat": 4,
 "nbformat_minor": 4
}
