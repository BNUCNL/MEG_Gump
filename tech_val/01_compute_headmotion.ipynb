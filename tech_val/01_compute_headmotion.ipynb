{
 "cells": [
  {
   "cell_type": "markdown",
   "metadata": {},
   "source": [
    "# 01_compute_headmotion"
   ]
  },
  {
   "cell_type": "markdown",
   "metadata": {},
   "source": [
    "Compute head movement and output the data for visualization"
   ]
  },
  {
   "cell_type": "code",
   "execution_count": 6,
   "metadata": {},
   "outputs": [],
   "source": [
    "import numpy as np\n",
    "from os.path import join as pjoin\n",
    "import os\n",
    "import mne_bids\n",
    "import mne\n",
    "from mne_bids import BIDSPath\n",
    "import pandas as pd"
   ]
  },
  {
   "cell_type": "code",
   "execution_count": 7,
   "metadata": {},
   "outputs": [],
   "source": [
    "# define variables\n",
    "sub_list = ['{0:0>2d}'.format(sub) for sub in np.arange(1,12)]\n",
    "run_list = ['{0:0>2d}'.format(run) for run in np.arange(1,9)]\n",
    "\n",
    "# set path\n",
    "bids_root = '/nfs/e5/studyforrest/forrest_movie_meg/gump_meg_bids'\n",
    "results_pth = '/nfs/e5/studyforrest/forrest_movie_meg/tech_val_results'\n",
    "if os.path.exists(results_pth) is False:\n",
    "    os.mkdir(results_pth)\n",
    "\n",
    "# set fiducials channel\n",
    "coord = {'nas' : ['HLC0011','HLC0012','HLC0013'], \n",
    "         'lpa' : ['HLC0021','HLC0022','HLC0023'], \n",
    "         'rpa' : ['HLC0031','HLC0032','HLC0033']}\n",
    "hpi_chns = list(np.concatenate(list(coord.values())))"
   ]
  },
  {
   "cell_type": "code",
   "execution_count": 8,
   "metadata": {},
   "outputs": [],
   "source": [
    "def extract_hpi(raw_data):\n",
    "    '''\n",
    "    Extract hpi data from mne raw object.\n",
    "    Returns\n",
    "    -------\n",
    "    hpi_data : Dict\n",
    "        {channel_name: hpi_value}\n",
    "    '''\n",
    "    picks = mne.pick_channels_regexp(raw_data.ch_names, regexp='HLC00[123][123]...')\n",
    "    hpi_data = raw_data.get_data(picks=picks)\n",
    "    \n",
    "    hpi = {}\n",
    "    for i, pick in enumerate(picks):\n",
    "        hpi[raw_data.ch_names[pick].split('-')[0]] = hpi_data[i]\n",
    "            \n",
    "    return hpi"
   ]
  },
  {
   "cell_type": "code",
   "execution_count": 9,
   "metadata": {},
   "outputs": [],
   "source": [
    "def compute_headmotion(meg_data, coord):\n",
    "    '''\n",
    "    compute headmotion distance from mne raw object.\n",
    "    Parameters\n",
    "    ----------\n",
    "    meg_data: mne object\n",
    "    coord: Dict\n",
    "        {fiducial: [channel name of x, channel name of y, channel name of z]}\n",
    "    \n",
    "    Returns\n",
    "    -------\n",
    "    head_movement : array\n",
    "        [n_fiducial, n_sample]\n",
    "    '''\n",
    "    \n",
    "    raw_data = meg_data.copy().crop(tmin=meg_data.annotations.onset[0], tmax=meg_data.annotations.onset[-1])\n",
    "    hpi = extract_hpi(raw_data)\n",
    "    \n",
    "    # get relative positions to initial positions\n",
    "    hpi_de = {}\n",
    "    for chn, val in hpi.items():\n",
    "        hpi_de[chn] = 1000*(val-val[0])\n",
    "    \n",
    "    # compute head motion\n",
    "    head_movement = [np.sqrt(hpi_de[coord[fiducial][0]]**2 + \n",
    "                             hpi_de[coord[fiducial][1]]**2 + \n",
    "                             hpi_de[coord[fiducial][2]]**2) \n",
    "                     for fiducial in coord.keys()]\n",
    "    \n",
    "    return np.asarray(head_movement)"
   ]
  },
  {
   "cell_type": "code",
   "execution_count": null,
   "metadata": {
    "scrolled": false
   },
   "outputs": [],
   "source": [
    "# get headmotion distances - within run\n",
    "head_motion = {}\n",
    "for sub in sub_list:\n",
    "    \n",
    "    # get runlist\n",
    "    head_motion[sub] = []\n",
    "    if sub == '01':\n",
    "        run_ls = run_list + ['09']\n",
    "    else:\n",
    "        run_ls = run_list\n",
    "        \n",
    "    for run in run_ls:\n",
    "        # get hpi data\n",
    "        sub_path = BIDSPath(subject=sub, run=int(run), task='movie', session='movie', root=bids_root)\n",
    "        raw = mne_bids.read_raw_bids(sub_path)\n",
    "        \n",
    "        head_motion[sub].append(compute_headmotion(raw, coord))"
   ]
  },
  {
   "cell_type": "code",
   "execution_count": null,
   "metadata": {},
   "outputs": [],
   "source": [
    "# convert head motion data to 1000 bins\n",
    "# get max head movement\n",
    "upper_bound = np.ceil(max([run.max() for sub, sub_data in head_motion.items() for run in sub_data]))\n",
    "\n",
    "# binning\n",
    "hm = {}\n",
    "for sub in sub_list:\n",
    "    if sub == '01':\n",
    "        run_ls = run_list + ['09']\n",
    "    else:\n",
    "        run_ls = run_list\n",
    "    \n",
    "    hm_sub = []\n",
    "    for run in run_ls:\n",
    "        \n",
    "        mv = head_motion[sub][int(run)-1]\n",
    "        hm_bins = [pd.cut(mv[i], np.linspace(0, upper_bound, 1000)).value_counts().values \n",
    "                   for i in np.arange(mv.shape[0])]\n",
    "        \n",
    "        hm_sub.append((np.asarray(hm_bins),np.max(mv, axis=1)))\n",
    "        \n",
    "    hm[sub] = hm_sub\n",
    "    print( sub + ' done')"
   ]
  },
  {
   "cell_type": "code",
   "execution_count": 7,
   "metadata": {},
   "outputs": [],
   "source": [
    "# save headmotion data - within run\n",
    "for sub in list(hm.keys())[1:]:\n",
    "    hm[sub].append(np.nan)\n",
    "df = pd.DataFrame(hm, columns=sub_list, index=run_list+['09'])\n",
    "df.to_pickle(pjoin(results_pth, 'head_motion.pickle'))\n",
    "\n",
    "np.save(pjoin(results_pth, 'head_motion_bins.npy'), np.linspace(0, upper_bound, 1000))"
   ]
  },
  {
   "cell_type": "code",
   "execution_count": null,
   "metadata": {},
   "outputs": [],
   "source": [
    "# get headmotion - between runs / during break\n",
    "break_deviation = pd.DataFrame(columns=coord.keys(), index=sub_list)\n",
    "for j in np.arange(break_deviation.shape[1]):\n",
    "    for i in np.arange(break_deviation.shape[0]):\n",
    "        break_deviation.iloc[i,j] = []\n",
    "\n",
    "run_deviation = pd.DataFrame(columns=coord.keys(), index=sub_list)\n",
    "for j in np.arange(run_deviation.shape[1]):\n",
    "    for i in np.arange(run_deviation.shape[0]):\n",
    "        run_deviation.iloc[i,j] = []\n",
    "\n",
    "head_motion = {}\n",
    "for sub in sub_list:\n",
    "    \n",
    "    # get runlist\n",
    "    head_motion[sub] = []\n",
    "    if sub == '01':\n",
    "        run_ls = run_list + ['09']\n",
    "    else:\n",
    "        run_ls = run_list\n",
    "    \n",
    "    initial_pos = pd.DataFrame(columns=hpi_chns, index=run_ls)\n",
    "    last_pos = pd.DataFrame(columns=hpi_chns, index=run_ls)\n",
    "    for run in run_ls:\n",
    "        # get hpi data\n",
    "        sub_path = BIDSPath(subject=sub, run=int(run), task='movie', session='movie', root=bids_root)\n",
    "        raw = mne_bids.read_raw_bids(sub_path)\n",
    "        raw = raw.copy().crop(tmin=raw.annotations.onset[0], tmax=raw.annotations.onset[-1])\n",
    "        hpi = extract_hpi(raw)\n",
    "        for chn in hpi_chns:\n",
    "            initial_pos[chn][run] = hpi[chn][0]\n",
    "            last_pos[chn][run] = hpi[chn][-1]\n",
    "    \n",
    "    # compute head movement during breaks\n",
    "    for i in range(len(initial_pos)-1):\n",
    "        break_dist = 1000*(initial_pos.iloc[i+1,:] - last_pos.iloc[i,:])\n",
    "        for fiducial in coord.keys():\n",
    "            break_deviation[fiducial][sub].append(np.sqrt(break_dist[coord[fiducial][0]]**2 + \n",
    "                                    break_dist[coord[fiducial][1]]**2 + \n",
    "                                    break_dist[coord[fiducial][2]]**2))\n",
    "\n",
    "    # compute head movement from initial position\n",
    "    fst_run_pos = initial_pos.iloc[0,:]\n",
    "    for i, row in enumerate(initial_pos.iterrows()):\n",
    "        run_dist = 1000*(row[1] - fst_run_pos)\n",
    "        for fiducial in coord.keys():\n",
    "            run_deviation[fiducial][sub].append(np.sqrt(run_dist[coord[fiducial][0]]**2 + \n",
    "                                    run_dist[coord[fiducial][1]]**2 + \n",
    "                                    run_dist[coord[fiducial][2]]**2))\n",
    "\n",
    "# save\n",
    "break_deviation.to_pickle(pjoin(results_pth, 'break_deviation.pickle'))\n",
    "run_deviation.to_pickle(pjoin(results_pth, 'run_deviation.pickle'))"
   ]
  },
  {
   "cell_type": "code",
   "execution_count": null,
   "metadata": {},
   "outputs": [],
   "source": []
  }
 ],
 "metadata": {
  "kernelspec": {
   "display_name": "Python 3",
   "language": "python",
   "name": "python3"
  },
  "language_info": {
   "codemirror_mode": {
    "name": "ipython",
    "version": 3
   },
   "file_extension": ".py",
   "mimetype": "text/x-python",
   "name": "python",
   "nbconvert_exporter": "python",
   "pygments_lexer": "ipython3",
   "version": "3.8.5"
  },
  "varInspector": {
   "cols": {
    "lenName": 16,
    "lenType": 16,
    "lenVar": 40
   },
   "kernels_config": {
    "python": {
     "delete_cmd_postfix": "",
     "delete_cmd_prefix": "del ",
     "library": "var_list.py",
     "varRefreshCmd": "print(var_dic_list())"
    },
    "r": {
     "delete_cmd_postfix": ") ",
     "delete_cmd_prefix": "rm(",
     "library": "var_list.r",
     "varRefreshCmd": "cat(var_dic_list()) "
    }
   },
   "types_to_exclude": [
    "module",
    "function",
    "builtin_function_or_method",
    "instance",
    "_Feature"
   ],
   "window_display": false
  }
 },
 "nbformat": 4,
 "nbformat_minor": 4
}
