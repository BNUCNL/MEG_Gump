{
 "cells": [
  {
   "cell_type": "markdown",
   "metadata": {},
   "source": [
    "# 03_compute_bandSNR"
   ]
  },
  {
   "cell_type": "code",
   "execution_count": 1,
   "metadata": {},
   "outputs": [],
   "source": [
    "import numpy as np\n",
    "from os.path import join as pjoin\n",
    "from os.path import isdir\n",
    "import os\n",
    "import matplotlib.pyplot as plt\n",
    "from matplotlib import cm, colors\n",
    "import mne_bids\n",
    "import mne\n",
    "from mne_bids import write_raw_bids, BIDSPath\n",
    "from scipy import stats\n",
    "import re\n",
    "from scipy import signal\n",
    "import pandas as pd\n",
    "from scipy import signal, fftpack"
   ]
  },
  {
   "cell_type": "code",
   "execution_count": 2,
   "metadata": {},
   "outputs": [],
   "source": [
    "# define variables\n",
    "sub_list = ['{0:0>2d}'.format(sub) for sub in np.arange(1,12)]\n",
    "run_list = ['{0:0>2d}'.format(run) for run in np.arange(1,9)]\n",
    "band = ['delta', 'theta', 'alpha', 'beta', 'gamma']\n",
    "\n",
    "# set path\n",
    "pre_root = '/nfs/e5/studyforrest/forrest_movie_meg/gump_meg_bids'\n",
    "post_root = pjoin(pre_root, 'derivatives', 'preproc_meg-mne_mri-fmriprep')\n",
    "\n",
    "results_pth = '/nfs/e5/studyforrest/forrest_movie_meg/tech_val_results'\n",
    "if os.path.exists(results_pth) is False:\n",
    "    os.mkdir(results_pth)"
   ]
  },
  {
   "cell_type": "code",
   "execution_count": 3,
   "metadata": {},
   "outputs": [],
   "source": [
    "def load_megdata(meg_root, sub, run):\n",
    "    \"\"\"\n",
    "    load meg data\n",
    "    desp: str, ['raw', 'preproced']\n",
    "    \n",
    "    \"\"\"\n",
    "    sub_path = BIDSPath(subject=sub, run=run, task='movie', session='movie', root=meg_root)\n",
    "    meg_data = mne_bids.read_raw_bids(sub_path)\n",
    "    \n",
    "    # get data of meg sensors\n",
    "    ch_name_picks = mne.pick_channels_regexp(meg_data.ch_names, regexp='M[LRZ]...-4503')\n",
    "    type_picks = mne.pick_types(meg_data.info, meg=True)\n",
    "    picks= np.intersect1d(ch_name_picks, type_picks)\n",
    "    data = meg_data.get_data(picks=picks)\n",
    "    \n",
    "    # get data during movie playing\n",
    "    event = mne.find_events(meg_data, stim_channel='UPPT001', min_duration=2/meg_data.info['sfreq'])\n",
    "    sample = event[:, 0]\n",
    "    data = data.take(sample, axis=1)\n",
    "    \n",
    "    return data"
   ]
  },
  {
   "cell_type": "code",
   "execution_count": 4,
   "metadata": {},
   "outputs": [],
   "source": [
    "def bandSNR(data, fs):\n",
    "    \"\"\"\n",
    "    Calculate bandSNR for \n",
    "    Parameters\n",
    "    ----------\n",
    "    data: array\n",
    "        [n_channels, n_samples]\n",
    "        \n",
    "    Returns\n",
    "    -------\n",
    "    bandSNR : array\n",
    "        [n_channels, n_bands]\n",
    "    \"\"\"\n",
    "    \n",
    "    # remove linear trend\n",
    "    data_detrend = signal.detrend(data, axis=-1)\n",
    "\n",
    "    # convert to frequency domain        \n",
    "    freqs, psd = signal.welch(data_detrend, fs=fs)\n",
    "\n",
    "    band = [[1, 4], [4, 8], [8, 13], [13, 30], [30, 100]]\n",
    "    # \"delta\": 1-4Hz\n",
    "    # \"theta\": 4-8Hz\n",
    "    # \"alpha\": 8-13Hz\n",
    "    # \"beta\": 13-30Hz\n",
    "    # \"gamma\": 30-100Hz\n",
    "\n",
    "    bandSNR = [np.sum(psd[:, (freqs>i[0]) * (freqs<i[1])], axis=-1) / np.sum(psd[:, freqs<0.5*fs], axis=-1) for i in band]\n",
    "    bandSNR = np.asarray(bandSNR).T\n",
    "    \n",
    "    return bandSNR"
   ]
  },
  {
   "cell_type": "code",
   "execution_count": null,
   "metadata": {},
   "outputs": [],
   "source": [
    "# compute bandSNR\n",
    "pre_bandSNR_data = {}\n",
    "post_bandSNR_data = {}\n",
    "\n",
    "for sub in sub_list:\n",
    "    pre_sub = []\n",
    "    post_sub = []\n",
    "\n",
    "    # get runlist\n",
    "    if sub == '01':\n",
    "        run_ls = run_list + ['09']\n",
    "    else:\n",
    "        run_ls = run_list\n",
    "        \n",
    "    for run in run_ls:       \n",
    "        # compute bandSNR for raw meg data\n",
    "        pre_data = load_megdata(pre_root, sub=sub, run=run)\n",
    "        pre_bandSNR = bandSNR(pre_data, fs=600)\n",
    "        pre_sub.append(pre_bandSNR)\n",
    "        \n",
    "        # compute bandSNR for preprocessed meg data\n",
    "        post_data = load_megdata(post_root, sub=sub, run=run)\n",
    "        post_bandSNR = bandSNR(post_data, fs=600)\n",
    "        post_sub.append(post_bandSNR)\n",
    "\n",
    "        print('sub-{0} run-{1} done'.format(sub, run))\n",
    "    \n",
    "    pre_bandSNR_data[sub] = pre_sub\n",
    "    post_bandSNR_data[sub] = post_sub\n",
    "    "
   ]
  },
  {
   "cell_type": "code",
   "execution_count": 7,
   "metadata": {},
   "outputs": [],
   "source": [
    "# save bandSNR\n",
    "for sub in sub_list[1:]:\n",
    "    pre_bandSNR_data[sub].append(np.nan)\n",
    "    post_bandSNR_data[sub].append(np.nan)\n",
    "pre_df = pd.DataFrame(pre_bandSNR_data, columns=sub_list, index=run_list+['09'])\n",
    "post_df = pd.DataFrame(post_bandSNR_data, columns=sub_list, index=run_list+['09'])\n",
    "pre_df.to_pickle(pjoin(results_pth, 'bandSNR_pre.pickle'))\n",
    "post_df.to_pickle(pjoin(results_pth, 'bandSNR_post.pickle'))"
   ]
  }
 ],
 "metadata": {
  "kernelspec": {
   "display_name": "Python 3",
   "language": "python",
   "name": "python3"
  },
  "language_info": {
   "codemirror_mode": {
    "name": "ipython",
    "version": 3
   },
   "file_extension": ".py",
   "mimetype": "text/x-python",
   "name": "python",
   "nbconvert_exporter": "python",
   "pygments_lexer": "ipython3",
   "version": "3.8.5"
  },
  "varInspector": {
   "cols": {
    "lenName": 16,
    "lenType": 16,
    "lenVar": 40
   },
   "kernels_config": {
    "python": {
     "delete_cmd_postfix": "",
     "delete_cmd_prefix": "del ",
     "library": "var_list.py",
     "varRefreshCmd": "print(var_dic_list())"
    },
    "r": {
     "delete_cmd_postfix": ") ",
     "delete_cmd_prefix": "rm(",
     "library": "var_list.r",
     "varRefreshCmd": "cat(var_dic_list()) "
    }
   },
   "types_to_exclude": [
    "module",
    "function",
    "builtin_function_or_method",
    "instance",
    "_Feature"
   ],
   "window_display": false
  }
 },
 "nbformat": 4,
 "nbformat_minor": 4
}
